{
 "cells": [
  {
   "cell_type": "markdown",
   "metadata": {},
   "source": [
    "link for this kaggle kernel :https://www.kaggle.com/nadergo/risk-factors-question-answering-biobert"
   ]
  },
  {
   "cell_type": "markdown",
   "metadata": {},
   "source": [
    "## The method\n",
    "* define some queries related to the risk factors\n",
    "* stemming and removing stop words for reducing vocab size\n",
    "* use TFIDF to vectorize the documents and cosine simialrity as a measure to get the most relevant articles (fast information retrieval )\n",
    "* use BioBERT to get answers to questions related to risk factors"
   ]
  },
  {
   "cell_type": "code",
   "execution_count": 2,
   "metadata": {
    "id": "eXtBu9Wku-uh"
   },
   "outputs": [],
   "source": [
    "import pandas as pd\n",
    "import numpy as np \n"
   ]
  },
  {
   "cell_type": "markdown",
   "metadata": {
    "id": "ss-Th1yuNDxy"
   },
   "source": [
    "Keeping only the articles with \"covid\" in them\n",
    " "
   ]
  },
  {
   "cell_type": "code",
   "execution_count": 3,
   "metadata": {
    "id": "RpmQrp134VJD",
    "outputId": "c83c939e-d7e6-4d22-de38-4ecef1458d56"
   },
   "outputs": [
    {
     "name": "stdout",
     "output_type": "stream",
     "text": [
      "All CORD19 documents  (157712, 8)\n",
      "COVID-19 focused docuemnts  (43398, 8)\n"
     ]
    }
   ],
   "source": [
    "\"\"\"\n",
    "I got  starter  code that filters the articles from another kernel\n",
    "https://www.kaggle.com/mlconsult/summary-page-covid-19-risk-factors \n",
    "\n",
    "\"\"\"\n",
    "\n",
    "\n",
    "\n",
    "import re\n",
    "import os\n",
    "import json\n",
    "# keep only documents with covid -cov-2 and cov2\n",
    "def search_focus(df):\n",
    "    dfa = df[df['abstract'].str.contains('covid')]\n",
    "    dfb = df[df['abstract'].str.contains('-cov-2')]\n",
    "    dfc = df[df['abstract'].str.contains('cov2')]\n",
    "    dfd = df[df['abstract'].str.contains('ncov')]\n",
    "    frames=[dfa,dfb,dfc,dfd]\n",
    "    df = pd.concat(frames)\n",
    "    df=df.drop_duplicates(subset='title', keep=\"first\")\n",
    "    return df\n",
    "\n",
    "\n",
    "df=pd.read_csv('/kaggle/input/CORD-19-research-challenge/metadata.csv', usecols=['title','journal','abstract','authors','doi','publish_time','sha','pdf_json_files'])\n",
    "print ('All CORD19 documents ',df.shape)\n",
    "#fill na fields\n",
    "df=df.fillna('no data provided')\n",
    "#drop duplicate titles\n",
    "df = df.drop_duplicates(subset='title', keep=\"first\")\n",
    "#keep only 2020 dated papers\n",
    "df=df[df['publish_time'].str.contains('2020')]\n",
    "# convert abstracts to lowercase\n",
    "df[\"abstract\"] = df[\"abstract\"].str.lower()+df[\"title\"].str.lower()\n",
    "#show 5 lines of the new dataframe\n",
    "df=search_focus(df)\n",
    "print (\"COVID-19 focused docuemnts \",df.shape)\n",
    "\n",
    "\n",
    "\n",
    "def format_body(body_text):\n",
    "    texts = [(di['section'], di['text']) for di in body_text]\n",
    "    texts_di = {di['section']: \"\" for di in body_text}\n",
    "    \n",
    "    for section, text in texts:\n",
    "        texts_di[section] += text\n",
    "\n",
    "    body = \"\"\n",
    "\n",
    "    for section, text in texts_di.items():\n",
    "        body += section\n",
    "        body += \"\\n\\n\"\n",
    "        body += text\n",
    "        body += \"\\n\\n\"\n",
    "    \n",
    "    return body\n",
    "for index, row in df.iterrows():\n",
    "    if ';' not in row['sha'] and os.path.exists('/kaggle/input/CORD-19-research-challenge/'+row['pdf_json_files']+'/'+row['pdf_json_files']+'/pdf_json/'+row['sha']+'.json')==True:\n",
    "        with open('/kaggle/input/CORD-19-research-challenge/'+row['pdf_json_files']+'/'+row['pdf_json_files']+'/pdf_json/'+row['sha']+'.json') as json_file:\n",
    "            data = json.load(json_file)\n",
    "            body=format_body(data['body_text'])\n",
    "            keyword_list=['TB','incidence','age']\n",
    "            #print (body)\n",
    "            body=body.replace(\"\\n\", \" \")\n",
    "\n",
    "            df.loc[index, 'abstract'] = body.lower()\n",
    "\n",
    "df=df.drop(['pdf_json_files'], axis=1)\n",
    "df=df.drop(['sha'], axis=1)\n",
    "# df.head()"
   ]
  },
  {
   "cell_type": "code",
   "execution_count": 4,
   "metadata": {
    "id": "2t7tKsrMh3RI"
   },
   "outputs": [],
   "source": [
    "df.reset_index(inplace=True)\n",
    "df.drop(\"index\",axis=1,inplace=True)"
   ]
  },
  {
   "cell_type": "code",
   "execution_count": 5,
   "metadata": {
    "id": "YXfHfc7LvG44",
    "outputId": "9f6def37-10a8-4033-c03d-ffb5602d8625"
   },
   "outputs": [
    {
     "name": "stdout",
     "output_type": "stream",
     "text": [
      "[nltk_data] Downloading package punkt to /usr/share/nltk_data...\n",
      "[nltk_data]   Package punkt is already up-to-date!\n",
      "[nltk_data] Downloading package stopwords to /usr/share/nltk_data...\n",
      "[nltk_data]   Package stopwords is already up-to-date!\n"
     ]
    }
   ],
   "source": [
    "import nltk\n",
    "nltk.download(\"punkt\")\n",
    "\n",
    "from nltk import word_tokenize,sent_tokenize\n",
    "from nltk.stem  import PorterStemmer\n",
    "\n",
    "\n",
    "from nltk.corpus import stopwords\n",
    "from nltk.stem import SnowballStemmer\n",
    "\n",
    "nltk.download('stopwords')\n",
    "stops = stopwords.words(\"english\")\n",
    "\n",
    "\n",
    "def removepunc(my_str):\n",
    "    punctuations = '''!()-[]{};:'\"\\,<>./?@#$%^&*_~'''\n",
    "    no_punct = \"\"\n",
    "    for char in my_str:\n",
    "        if char not in punctuations:\n",
    "            no_punct = no_punct + char\n",
    "    return no_punct\n",
    "\n",
    "def hasNumbers(inputString):\n",
    "    return (bool(re.search(r'\\d', inputString)))\n",
    "snowstem = SnowballStemmer(\"english\")\n",
    "portstem = PorterStemmer()\n",
    "\n",
    "\n",
    "\n",
    "\"\"\"\n",
    "These are the queries related to risk factors\n",
    "\n",
    "\"\"\"\n",
    "\n",
    "usequeries = sent_tokenize(\"\"\"Smoking, pre-existing pulmonary disease\n",
    "Co-infections (determine whether co-existing respiratory/viral infections make the virus more transmissible or virulent) and other co-morbidities.\n",
    "cardiovascular disease , chronic obstructive pulmonary disease and diabetes.\n",
    "Neonates and pregnant women.\n",
    "Socio-economic and behavioral factors to understand the economic impact of the virus and whether there were differences.\n",
    "Transmission dynamics of the virus, including the basic reproductive number, incubation period, serial interval, modes of transmission and environmental factors\n",
    "Severity of disease, including risk of fatality among symptomatic hospitalized patients, and high risk patient groups\n",
    "Susceptibility of populations.\n",
    "Public health mitigation measures that could be effective for control.\n",
    "immune system disorders.\n",
    "heart failure.\n",
    "drinking.\n",
    "diabetes.\n",
    "\n",
    "\"\"\")\n",
    "queryarticle = [\" \".join([snowstem.stem(removepunc(i.lower())) for i in word_tokenize(x) if i not in stops ]) for x in usequeries]\n"
   ]
  },
  {
   "cell_type": "code",
   "execution_count": 6,
   "metadata": {
    "id": "xZ7d6w30yNn0"
   },
   "outputs": [],
   "source": [
    "\"\"\"\n",
    "\n",
    "had to reduce the vocabulary of the data\n",
    "\n",
    "\n",
    "\"\"\"\n",
    "df[\"usetext\"] = df.abstract.apply(lambda x: \" \".join([snowstem.stem(i) for i in word_tokenize(removepunc(x.lower())) if not hasNumbers(i) if i not in stops]))"
   ]
  },
  {
   "cell_type": "code",
   "execution_count": 7,
   "metadata": {
    "id": "LQu9sTkBz9RZ"
   },
   "outputs": [],
   "source": [
    "\n",
    "from sklearn.feature_extraction.text import TfidfVectorizer\n",
    "vectorizer = TfidfVectorizer()\n",
    "encArticles = vectorizer.fit_transform(df.usetext)\n",
    "encQueries = vectorizer.transform(queryarticle)"
   ]
  },
  {
   "cell_type": "code",
   "execution_count": 8,
   "metadata": {
    "id": "0rtJf2tX5GJk"
   },
   "outputs": [],
   "source": [
    "from sklearn.metrics.pairwise import cosine_similarity\n",
    "\n",
    "similarity_matrix  = cosine_similarity(encQueries,encArticles)\n"
   ]
  },
  {
   "cell_type": "code",
   "execution_count": 9,
   "metadata": {
    "id": "nxqfEbWNGL6q",
    "outputId": "41a1be85-8d77-4f8a-cc25-f0c3874b2cf8"
   },
   "outputs": [
    {
     "name": "stdout",
     "output_type": "stream",
     "text": [
      "[0.49860589 0.49860589 0.48486082 0.45351181 0.43041178]\n"
     ]
    },
    {
     "data": {
      "text/plain": [
       "array([23628,  4626, 14049, 23178,  5063])"
      ]
     },
     "execution_count": 9,
     "metadata": {},
     "output_type": "execute_result"
    }
   ],
   "source": [
    "print(np.sort(similarity_matrix[1])[-5:][::-1]) #sorting to get the most similar articles for a given query\n",
    "np.argsort(similarity_matrix[1])[-5:][::-1]"
   ]
  },
  {
   "cell_type": "code",
   "execution_count": 10,
   "metadata": {},
   "outputs": [],
   "source": [
    "import torch\n",
    "from transformers import  AutoTokenizer,AutoModelForQuestionAnswering"
   ]
  },
  {
   "cell_type": "markdown",
   "metadata": {
    "id": "uCOnddz2q-Ro"
   },
   "source": [
    "Biobert is bert pretrained on  more medical text"
   ]
  },
  {
   "cell_type": "code",
   "execution_count": 11,
   "metadata": {
    "id": "XA-S0qjY2Iip",
    "outputId": "73cc1572-c872-4b63-fc61-60b7a2cd93a8"
   },
   "outputs": [
    {
     "data": {
      "application/vnd.jupyter.widget-view+json": {
       "model_id": "64bdbffc391a45b2afd819e5a1ade18d",
       "version_major": 2,
       "version_minor": 0
      },
      "text/plain": [
       "HBox(children=(FloatProgress(value=0.0, description='Downloading', max=465.0, style=ProgressStyle(description_…"
      ]
     },
     "metadata": {},
     "output_type": "display_data"
    },
    {
     "name": "stdout",
     "output_type": "stream",
     "text": [
      "\n"
     ]
    },
    {
     "data": {
      "application/vnd.jupyter.widget-view+json": {
       "model_id": "351e749afdfa4eeeae373676917cf960",
       "version_major": 2,
       "version_minor": 0
      },
      "text/plain": [
       "HBox(children=(FloatProgress(value=0.0, description='Downloading', max=213450.0, style=ProgressStyle(descripti…"
      ]
     },
     "metadata": {},
     "output_type": "display_data"
    },
    {
     "name": "stdout",
     "output_type": "stream",
     "text": [
      "\n"
     ]
    },
    {
     "data": {
      "application/vnd.jupyter.widget-view+json": {
       "model_id": "e7c7c36bbf654af4b27887fd773f38b3",
       "version_major": 2,
       "version_minor": 0
      },
      "text/plain": [
       "HBox(children=(FloatProgress(value=0.0, description='Downloading', max=112.0, style=ProgressStyle(description_…"
      ]
     },
     "metadata": {},
     "output_type": "display_data"
    },
    {
     "name": "stdout",
     "output_type": "stream",
     "text": [
      "\n"
     ]
    },
    {
     "data": {
      "application/vnd.jupyter.widget-view+json": {
       "model_id": "bd3d8901298a4e52a70aa8ba04eb0be3",
       "version_major": 2,
       "version_minor": 0
      },
      "text/plain": [
       "HBox(children=(FloatProgress(value=0.0, description='Downloading', max=136.0, style=ProgressStyle(description_…"
      ]
     },
     "metadata": {},
     "output_type": "display_data"
    },
    {
     "name": "stdout",
     "output_type": "stream",
     "text": [
      "\n"
     ]
    },
    {
     "data": {
      "application/vnd.jupyter.widget-view+json": {
       "model_id": "750440d357f34c27a1fbe9b30ea71ebb",
       "version_major": 2,
       "version_minor": 0
      },
      "text/plain": [
       "HBox(children=(FloatProgress(value=0.0, description='Downloading', max=433297484.0, style=ProgressStyle(descri…"
      ]
     },
     "metadata": {},
     "output_type": "display_data"
    },
    {
     "name": "stdout",
     "output_type": "stream",
     "text": [
      "\n"
     ]
    }
   ],
   "source": [
    "tokenizer = AutoTokenizer.from_pretrained(\"ktrapeznikov/biobert_v1.1_pubmed_squad_v2\")\n",
    "\n",
    "model = AutoModelForQuestionAnswering.from_pretrained(\"ktrapeznikov/biobert_v1.1_pubmed_squad_v2\")"
   ]
  },
  {
   "cell_type": "code",
   "execution_count": 12,
   "metadata": {
    "id": "llovYM4ViG1G"
   },
   "outputs": [],
   "source": [
    "\n",
    "def ask(question,context):\n",
    "  input_ids = tokenizer.encode(question, context)\n",
    "  sep_index = input_ids.index(tokenizer.sep_token_id)\n",
    "\n",
    "  num_seg_a = sep_index + 1\n",
    "\n",
    "  num_seg_b = len(input_ids) - num_seg_a\n",
    "  segment_ids = [0]*num_seg_a + [1]*num_seg_b\n",
    "  assert len(segment_ids) == len(input_ids)\n",
    "  tokens = tokenizer.convert_ids_to_tokens(input_ids)\n",
    "\n",
    "\n",
    "  start_scores, end_scores = model(torch.tensor([input_ids]),\n",
    "                                 token_type_ids=torch.tensor([segment_ids])) # The segment IDs to differentiate question from answer_text\n",
    "  answer_end = 0\n",
    "  answer_start = torch.argmax(start_scores)\n",
    "  answer_ends = torch.argsort(end_scores).numpy()[::-1]\n",
    "  for i in answer_ends[0]:\n",
    "    if answer_start<= i:\n",
    "      answer_end= i\n",
    "\n",
    "  answer = ' '.join(tokens[answer_start:answer_end+1])\n",
    "  answer = answer.replace(\" ##\",\"\").replace(\"[CLS] \",\"\")\n",
    "\n",
    "  pack = [answer,answer_start,answer_end,torch.max(start_scores),end_scores[0][answer_end],(torch.max(start_scores)+end_scores[0][answer_end]),context]\n",
    "  return pack"
   ]
  },
  {
   "cell_type": "code",
   "execution_count": 13,
   "metadata": {},
   "outputs": [],
   "source": [
    "from IPython.display import display, HTML"
   ]
  },
  {
   "cell_type": "code",
   "execution_count": 14,
   "metadata": {},
   "outputs": [],
   "source": [
    "\"\"\"\n",
    "this function is used to visualize the answers with their contexts \n",
    "\"\"\"\n",
    "\n",
    "def highlightTextInContext(answer, context):\n",
    "    if \"?\"  in answer:\n",
    "        answer =\" \".join(answer[answer.index(\"?\")+1:].split(\" \"))\n",
    "    \n",
    "    antokens = word_tokenize(answer)\n",
    "    cotokens = word_tokenize(context)\n",
    "    startword= \"\"\n",
    "    startindex= \"\"\n",
    "    for i,w in enumerate(antokens):\n",
    "        for c in cotokens:\n",
    "            if c==w:\n",
    "                startword = c \n",
    "                selectedText = context[context.index(w):context.index(antokens[-1])+len(antokens[-1])]\n",
    "                highlighted = f'<span style=\"color: green; font-weight: bold\">{selectedText}</span>'\n",
    "                return context.replace(selectedText,highlighted)\n",
    "                # return is an easy way to break two nested loops\n",
    "def showTopAnswers(answers):\n",
    "        for i in np.argsort(answers[:,5])[-8:][::-1]:\n",
    "            display(HTML(\"<p>\"+highlightTextInContext(answers[i,0],answers[i,6])+\"</p>\"))"
   ]
  },
  {
   "cell_type": "markdown",
   "metadata": {},
   "source": [
    "BERT provides a score with every answer so answers can be sorted and filtered throw their scores"
   ]
  },
  {
   "cell_type": "code",
   "execution_count": 15,
   "metadata": {
    "id": "KPGszEUIlami"
   },
   "outputs": [],
   "source": [
    "def getanswers(question):\n",
    "  recommendations = []\n",
    "  for i in range(len(usequeries)):\n",
    "    indecies = np.argsort(similarity_matrix[i])[-7:][::-1] ## I choose to show N recommended queries from every query\n",
    "    for t in indecies:\n",
    "        recommendations.append(word_tokenize(df.abstract[t]))\n",
    "  \n",
    "  processedQuestion =   \" \".join([snowstem.stem(i) for i in word_tokenize(removepunc(question)) if i not in stops])\n",
    "  vector = vectorizer.transform([processedQuestion])\n",
    "  questionSimilarityMatrix = cosine_similarity(vector,encArticles)\n",
    "  indecies = np.argsort(questionSimilarityMatrix[0])[-7:][::-1] \n",
    "  for t in indecies:\n",
    "    recommendations.append(word_tokenize(df.abstract[t]))\n",
    "          \n",
    "  questions= []\n",
    "  contexts= []\n",
    "  for bigcontext in recommendations:\n",
    "    for i in range(int(len(bigcontext)/60)):\n",
    "      contexts.append(\" \".join(bigcontext[i*60:60*(i+1)]))\n",
    "      questions.append(question)\n",
    "\n",
    "  answers = []\n",
    "  for  question, context in zip(questions,contexts):\n",
    "    result = ask(question,context)\n",
    "    if len(result[0]) < 7 and \"[CLS]\" in result[0] :\n",
    "      continue\n",
    "    answers.append(result)\n",
    "  answers = np.array(answers)\n",
    "\n",
    "  return answers"
   ]
  },
  {
   "cell_type": "code",
   "execution_count": 16,
   "metadata": {},
   "outputs": [
    {
     "data": {
      "text/html": [
       "<p>, bvs , scielo and cuiden . in addition , the prisma methodology was applied . results ten studies were identified that assessed maternal and neonatal health after maternal covid-19 infection . <span style=\"color: green; font-weight: bold\">pregnant women seem to had no serious symptoms</span> . neonates appeared to be affected to a greater extent . a death was reported in a premature newborn whose</p>"
      ],
      "text/plain": [
       "<IPython.core.display.HTML object>"
      ]
     },
     "metadata": {},
     "output_type": "display_data"
    },
    {
     "data": {
      "text/html": [
       "<p>relation to the year of publication or type of article . results : a total of 49 documents and articles were detected , of which 27 were analyzed , 18 were used , and 9 were discarded because they did not contain practical recommendations . the recommendations were grouped into 9 subjects : <span style=\"color: green; font-weight: bold\">prevention of infection</span> in pregnant women ,</p>"
      ],
      "text/plain": [
       "<IPython.core.display.HTML object>"
      ]
     },
     "metadata": {},
     "output_type": "display_data"
    },
    {
     "data": {
      "text/html": [
       "<p>one still birth and one neonatal death reported . vertical transmission rate of sars-cov-2 is estimated to be 11 % . conclusion in pregnant women with covid-19 , diabetes and hypertensive disorders are common co-morbidities and <span style=\"color: green; font-weight: bold\">there is a risk of preterm delivery</span> . amongst the neonates born to mothers with covid-19 , respiratory distress syndrome and pneumonia are common</p>"
      ],
      "text/plain": [
       "<IPython.core.display.HTML object>"
      ]
     },
     "metadata": {},
     "output_type": "display_data"
    },
    {
     "data": {
      "text/html": [
       "<p>cells , immune fitness of adaptive immune cells or cross-protection of antibodies in the children . therefore , due to lack of specific vaccine , some vaccines for tuberculosis , influenza and pneumonia may have certain application potential for the front-line health workers in the prevention and control of covid-19 . however , for high-risk <span style=\"color: green; font-weight: bold\">susceptible populations</span> , such as</p>"
      ],
      "text/plain": [
       "<IPython.core.display.HTML object>"
      ]
     },
     "metadata": {},
     "output_type": "display_data"
    },
    {
     "data": {
      "text/html": [
       "<p>cells , immune fitness of adaptive immune cells or cross-protection of antibodies in the children . therefore , due to lack of specific vaccine , some vaccines for tuberculosis , influenza and pneumonia may have certain application potential for the front-line health workers in the prevention and control of covid-19 . however , for high-risk <span style=\"color: green; font-weight: bold\">susceptible populations</span> , such as</p>"
      ],
      "text/plain": [
       "<IPython.core.display.HTML object>"
      ]
     },
     "metadata": {},
     "output_type": "display_data"
    },
    {
     "data": {
      "text/html": [
       "<p>13 ( 39.4 % ) ,19 ( 57.6 % ) , and 1 ( 3 % ) . one ( 3.6 % ) newborn developed ards and was admitted to the nicu . the rate of perinatal transmission of sars-cov-2 was 3.6 % . conclusions this report suggests that pregnant women are <span style=\"color: green; font-weight: bold\">not at increased risk for severe illness</span> or</p>"
      ],
      "text/plain": [
       "<IPython.core.display.HTML object>"
      ]
     },
     "metadata": {},
     "output_type": "display_data"
    },
    {
     "data": {
      "text/html": [
       "<p>13 ( 39.4 % ) ,19 ( 57.6 % ) , and 1 ( 3 % ) . one ( 3.6 % ) newborn developed ards and was admitted to the nicu . the rate of perinatal transmission of sars-cov-2 was 3.6 % . conclusions this report suggests that pregnant women are <span style=\"color: green; font-weight: bold\">not at increased risk for severe illness</span> or</p>"
      ],
      "text/plain": [
       "<IPython.core.display.HTML object>"
      ]
     },
     "metadata": {},
     "output_type": "display_data"
    },
    {
     "data": {
      "text/html": [
       "<p><span style=\"color: green; font-weight: bold\">are more likely than before lockdown to report trying to quit smoking or reduce their alcohol consumption</span> , and rates of smoking cessation are higher . smokers are no less likely than before lockdown to use cessation support , with increased uptake of remote support . however , use of evidence-based support for alcohol reduction by high-risk drinkers has decreased</p>"
      ],
      "text/plain": [
       "<IPython.core.display.HTML object>"
      ]
     },
     "metadata": {},
     "output_type": "display_data"
    }
   ],
   "source": [
    "answers = getanswers(\"are pregnant women at risk ?\")\n",
    "showTopAnswers(answers)"
   ]
  },
  {
   "cell_type": "code",
   "execution_count": 17,
   "metadata": {},
   "outputs": [
    {
     "data": {
      "text/html": [
       "<p>the novel coronavirus disease 2019 ( covid-19 ) has already evolved into a rapidly expanding pandemic . risk factors for covid-19 , such as <span style=\"color: green; font-weight: bold\">cardiovascular disease , chronic obstructive pulmonary disease and diabetes</span> , are all strongly associated with smoking habits . the effects of cigarette smoking on the transmission of the virus and worsening of covid-19 have been less</p>"
      ],
      "text/plain": [
       "<IPython.core.display.HTML object>"
      ]
     },
     "metadata": {},
     "output_type": "display_data"
    },
    {
     "data": {
      "text/html": [
       "<p>are important risk factors for <span style=\"color: green; font-weight: bold\">progression and unfavorable outcome</span> in covid-19 patients . there is only limited amount of data regarding follow-up of these patients , and they provided conflicting results . the main limitation is a small number of participants and particularly those who experienced primary composite outcome ( admission in intensive care unit , use of mechanical ventilation</p>"
      ],
      "text/plain": [
       "<IPython.core.display.HTML object>"
      ]
     },
     "metadata": {},
     "output_type": "display_data"
    },
    {
     "data": {
      "text/html": [
       "<p><span style=\"color: green; font-weight: bold\"></span>f<span style=\"color: green; font-weight: bold\"></span>o<span style=\"color: green; font-weight: bold\"></span>u<span style=\"color: green; font-weight: bold\"></span>n<span style=\"color: green; font-weight: bold\"></span>d<span style=\"color: green; font-weight: bold\"></span> <span style=\"color: green; font-weight: bold\"></span>t<span style=\"color: green; font-weight: bold\"></span>h<span style=\"color: green; font-weight: bold\"></span>a<span style=\"color: green; font-weight: bold\"></span>t<span style=\"color: green; font-weight: bold\"></span> <span style=\"color: green; font-weight: bold\"></span>t<span style=\"color: green; font-weight: bold\"></span>h<span style=\"color: green; font-weight: bold\"></span>e<span style=\"color: green; font-weight: bold\"></span> <span style=\"color: green; font-weight: bold\"></span>u<span style=\"color: green; font-weight: bold\"></span>n<span style=\"color: green; font-weight: bold\"></span>i<span style=\"color: green; font-weight: bold\"></span>t<span style=\"color: green; font-weight: bold\"></span>a<span style=\"color: green; font-weight: bold\"></span>r<span style=\"color: green; font-weight: bold\"></span>y<span style=\"color: green; font-weight: bold\"></span> <span style=\"color: green; font-weight: bold\"></span>s<span style=\"color: green; font-weight: bold\"></span>t<span style=\"color: green; font-weight: bold\"></span>a<span style=\"color: green; font-weight: bold\"></span>t<span style=\"color: green; font-weight: bold\"></span>e<span style=\"color: green; font-weight: bold\"></span> <span style=\"color: green; font-weight: bold\"></span>s<span style=\"color: green; font-weight: bold\"></span>y<span style=\"color: green; font-weight: bold\"></span>s<span style=\"color: green; font-weight: bold\"></span>t<span style=\"color: green; font-weight: bold\"></span>e<span style=\"color: green; font-weight: bold\"></span>m<span style=\"color: green; font-weight: bold\"></span> <span style=\"color: green; font-weight: bold\"></span>w<span style=\"color: green; font-weight: bold\"></span>a<span style=\"color: green; font-weight: bold\"></span>s<span style=\"color: green; font-weight: bold\"></span> <span style=\"color: green; font-weight: bold\"></span>c<span style=\"color: green; font-weight: bold\"></span>o<span style=\"color: green; font-weight: bold\"></span>u<span style=\"color: green; font-weight: bold\"></span>n<span style=\"color: green; font-weight: bold\"></span>t<span style=\"color: green; font-weight: bold\"></span>e<span style=\"color: green; font-weight: bold\"></span>r<span style=\"color: green; font-weight: bold\"></span>-<span style=\"color: green; font-weight: bold\"></span>i<span style=\"color: green; font-weight: bold\"></span>n<span style=\"color: green; font-weight: bold\"></span>t<span style=\"color: green; font-weight: bold\"></span>u<span style=\"color: green; font-weight: bold\"></span>i<span style=\"color: green; font-weight: bold\"></span>t<span style=\"color: green; font-weight: bold\"></span>i<span style=\"color: green; font-weight: bold\"></span>v<span style=\"color: green; font-weight: bold\"></span>e<span style=\"color: green; font-weight: bold\"></span>l<span style=\"color: green; font-weight: bold\"></span>y<span style=\"color: green; font-weight: bold\"></span> <span style=\"color: green; font-weight: bold\"></span>p<span style=\"color: green; font-weight: bold\"></span>o<span style=\"color: green; font-weight: bold\"></span>s<span style=\"color: green; font-weight: bold\"></span>i<span style=\"color: green; font-weight: bold\"></span>t<span style=\"color: green; font-weight: bold\"></span>i<span style=\"color: green; font-weight: bold\"></span>v<span style=\"color: green; font-weight: bold\"></span>e<span style=\"color: green; font-weight: bold\"></span>l<span style=\"color: green; font-weight: bold\"></span>y<span style=\"color: green; font-weight: bold\"></span> <span style=\"color: green; font-weight: bold\"></span>a<span style=\"color: green; font-weight: bold\"></span>s<span style=\"color: green; font-weight: bold\"></span>s<span style=\"color: green; font-weight: bold\"></span>o<span style=\"color: green; font-weight: bold\"></span>c<span style=\"color: green; font-weight: bold\"></span>i<span style=\"color: green; font-weight: bold\"></span>a<span style=\"color: green; font-weight: bold\"></span>t<span style=\"color: green; font-weight: bold\"></span>e<span style=\"color: green; font-weight: bold\"></span>d<span style=\"color: green; font-weight: bold\"></span> <span style=\"color: green; font-weight: bold\"></span>w<span style=\"color: green; font-weight: bold\"></span>i<span style=\"color: green; font-weight: bold\"></span>t<span style=\"color: green; font-weight: bold\"></span>h<span style=\"color: green; font-weight: bold\"></span> <span style=\"color: green; font-weight: bold\"></span>i<span style=\"color: green; font-weight: bold\"></span>n<span style=\"color: green; font-weight: bold\"></span>c<span style=\"color: green; font-weight: bold\"></span>r<span style=\"color: green; font-weight: bold\"></span>e<span style=\"color: green; font-weight: bold\"></span>a<span style=\"color: green; font-weight: bold\"></span>s<span style=\"color: green; font-weight: bold\"></span>e<span style=\"color: green; font-weight: bold\"></span>d<span style=\"color: green; font-weight: bold\"></span> <span style=\"color: green; font-weight: bold\"></span>c<span style=\"color: green; font-weight: bold\"></span>o<span style=\"color: green; font-weight: bold\"></span>v<span style=\"color: green; font-weight: bold\"></span>i<span style=\"color: green; font-weight: bold\"></span>d<span style=\"color: green; font-weight: bold\"></span>-<span style=\"color: green; font-weight: bold\"></span>1<span style=\"color: green; font-weight: bold\"></span>9<span style=\"color: green; font-weight: bold\"></span> <span style=\"color: green; font-weight: bold\"></span>c<span style=\"color: green; font-weight: bold\"></span>a<span style=\"color: green; font-weight: bold\"></span>s<span style=\"color: green; font-weight: bold\"></span>e<span style=\"color: green; font-weight: bold\"></span>s<span style=\"color: green; font-weight: bold\"></span> <span style=\"color: green; font-weight: bold\"></span>a<span style=\"color: green; font-weight: bold\"></span>n<span style=\"color: green; font-weight: bold\"></span>d<span style=\"color: green; font-weight: bold\"></span> <span style=\"color: green; font-weight: bold\"></span>d<span style=\"color: green; font-weight: bold\"></span>e<span style=\"color: green; font-weight: bold\"></span>a<span style=\"color: green; font-weight: bold\"></span>t<span style=\"color: green; font-weight: bold\"></span>h<span style=\"color: green; font-weight: bold\"></span>s<span style=\"color: green; font-weight: bold\"></span> <span style=\"color: green; font-weight: bold\"></span>.<span style=\"color: green; font-weight: bold\"></span> <span style=\"color: green; font-weight: bold\"></span>b<span style=\"color: green; font-weight: bold\"></span>l<span style=\"color: green; font-weight: bold\"></span>o<span style=\"color: green; font-weight: bold\"></span>o<span style=\"color: green; font-weight: bold\"></span>d<span style=\"color: green; font-weight: bold\"></span> <span style=\"color: green; font-weight: bold\"></span>t<span style=\"color: green; font-weight: bold\"></span>y<span style=\"color: green; font-weight: bold\"></span>p<span style=\"color: green; font-weight: bold\"></span>e<span style=\"color: green; font-weight: bold\"></span> <span style=\"color: green; font-weight: bold\"></span>b<span style=\"color: green; font-weight: bold\"></span> <span style=\"color: green; font-weight: bold\"></span>w<span style=\"color: green; font-weight: bold\"></span>a<span style=\"color: green; font-weight: bold\"></span>s<span style=\"color: green; font-weight: bold\"></span> <span style=\"color: green; font-weight: bold\"></span>a<span style=\"color: green; font-weight: bold\"></span> <span style=\"color: green; font-weight: bold\"></span>p<span style=\"color: green; font-weight: bold\"></span>r<span style=\"color: green; font-weight: bold\"></span>o<span style=\"color: green; font-weight: bold\"></span>t<span style=\"color: green; font-weight: bold\"></span>e<span style=\"color: green; font-weight: bold\"></span>c<span style=\"color: green; font-weight: bold\"></span>t<span style=\"color: green; font-weight: bold\"></span>i<span style=\"color: green; font-weight: bold\"></span>v<span style=\"color: green; font-weight: bold\"></span>e<span style=\"color: green; font-weight: bold\"></span> <span style=\"color: green; font-weight: bold\"></span>f<span style=\"color: green; font-weight: bold\"></span>a<span style=\"color: green; font-weight: bold\"></span>c<span style=\"color: green; font-weight: bold\"></span>t<span style=\"color: green; font-weight: bold\"></span>o<span style=\"color: green; font-weight: bold\"></span>r<span style=\"color: green; font-weight: bold\"></span> <span style=\"color: green; font-weight: bold\"></span>f<span style=\"color: green; font-weight: bold\"></span>o<span style=\"color: green; font-weight: bold\"></span>r<span style=\"color: green; font-weight: bold\"></span> <span style=\"color: green; font-weight: bold\"></span>c<span style=\"color: green; font-weight: bold\"></span>o<span style=\"color: green; font-weight: bold\"></span>v<span style=\"color: green; font-weight: bold\"></span>i<span style=\"color: green; font-weight: bold\"></span>d<span style=\"color: green; font-weight: bold\"></span>-<span style=\"color: green; font-weight: bold\"></span>1<span style=\"color: green; font-weight: bold\"></span>9<span style=\"color: green; font-weight: bold\"></span> <span style=\"color: green; font-weight: bold\"></span>r<span style=\"color: green; font-weight: bold\"></span>i<span style=\"color: green; font-weight: bold\"></span>s<span style=\"color: green; font-weight: bold\"></span>k<span style=\"color: green; font-weight: bold\"></span> <span style=\"color: green; font-weight: bold\"></span>,<span style=\"color: green; font-weight: bold\"></span> <span style=\"color: green; font-weight: bold\"></span>w<span style=\"color: green; font-weight: bold\"></span>h<span style=\"color: green; font-weight: bold\"></span>i<span style=\"color: green; font-weight: bold\"></span>l<span style=\"color: green; font-weight: bold\"></span>e<span style=\"color: green; font-weight: bold\"></span> <span style=\"color: green; font-weight: bold\"></span>b<span style=\"color: green; font-weight: bold\"></span>l<span style=\"color: green; font-weight: bold\"></span>o<span style=\"color: green; font-weight: bold\"></span>o<span style=\"color: green; font-weight: bold\"></span>d<span style=\"color: green; font-weight: bold\"></span> <span style=\"color: green; font-weight: bold\"></span>t<span style=\"color: green; font-weight: bold\"></span>y<span style=\"color: green; font-weight: bold\"></span>p<span style=\"color: green; font-weight: bold\"></span>e<span style=\"color: green; font-weight: bold\"></span> <span style=\"color: green; font-weight: bold\"></span>a<span style=\"color: green; font-weight: bold\"></span> <span style=\"color: green; font-weight: bold\"></span>w<span style=\"color: green; font-weight: bold\"></span>a<span style=\"color: green; font-weight: bold\"></span>s<span style=\"color: green; font-weight: bold\"></span> <span style=\"color: green; font-weight: bold\"></span>a<span style=\"color: green; font-weight: bold\"></span> <span style=\"color: green; font-weight: bold\"></span>r<span style=\"color: green; font-weight: bold\"></span>i<span style=\"color: green; font-weight: bold\"></span>s<span style=\"color: green; font-weight: bold\"></span>k<span style=\"color: green; font-weight: bold\"></span> <span style=\"color: green; font-weight: bold\"></span>f<span style=\"color: green; font-weight: bold\"></span>a<span style=\"color: green; font-weight: bold\"></span>c<span style=\"color: green; font-weight: bold\"></span>t<span style=\"color: green; font-weight: bold\"></span>o<span style=\"color: green; font-weight: bold\"></span>r<span style=\"color: green; font-weight: bold\"></span> <span style=\"color: green; font-weight: bold\"></span>.<span style=\"color: green; font-weight: bold\"></span> <span style=\"color: green; font-weight: bold\"></span>t<span style=\"color: green; font-weight: bold\"></span>h<span style=\"color: green; font-weight: bold\"></span>e<span style=\"color: green; font-weight: bold\"></span> <span style=\"color: green; font-weight: bold\"></span>p<span style=\"color: green; font-weight: bold\"></span>r<span style=\"color: green; font-weight: bold\"></span>e<span style=\"color: green; font-weight: bold\"></span>v<span style=\"color: green; font-weight: bold\"></span>a<span style=\"color: green; font-weight: bold\"></span>l<span style=\"color: green; font-weight: bold\"></span>e<span style=\"color: green; font-weight: bold\"></span>n<span style=\"color: green; font-weight: bold\"></span>c<span style=\"color: green; font-weight: bold\"></span>e<span style=\"color: green; font-weight: bold\"></span> <span style=\"color: green; font-weight: bold\"></span>o<span style=\"color: green; font-weight: bold\"></span>f<span style=\"color: green; font-weight: bold\"></span> <span style=\"color: green; font-weight: bold\"></span>h<span style=\"color: green; font-weight: bold\"></span>i<span style=\"color: green; font-weight: bold\"></span>v<span style=\"color: green; font-weight: bold\"></span> <span style=\"color: green; font-weight: bold\"></span>,<span style=\"color: green; font-weight: bold\"></span> <span style=\"color: green; font-weight: bold\"></span>i<span style=\"color: green; font-weight: bold\"></span>n<span style=\"color: green; font-weight: bold\"></span>f<span style=\"color: green; font-weight: bold\"></span>l<span style=\"color: green; font-weight: bold\"></span>u<span style=\"color: green; font-weight: bold\"></span>e<span style=\"color: green; font-weight: bold\"></span>n<span style=\"color: green; font-weight: bold\"></span>z<span style=\"color: green; font-weight: bold\"></span>a<span style=\"color: green; font-weight: bold\"></span> <span style=\"color: green; font-weight: bold\"></span>a<span style=\"color: green; font-weight: bold\"></span>n<span style=\"color: green; font-weight: bold\"></span>d<span style=\"color: green; font-weight: bold\"></span> <span style=\"color: green; font-weight: bold\"></span>p<span style=\"color: green; font-weight: bold\"></span>n<span style=\"color: green; font-weight: bold\"></span>e<span style=\"color: green; font-weight: bold\"></span>u<span style=\"color: green; font-weight: bold\"></span>m<span style=\"color: green; font-weight: bold\"></span>o<span style=\"color: green; font-weight: bold\"></span>n<span style=\"color: green; font-weight: bold\"></span>i<span style=\"color: green; font-weight: bold\"></span>a<span style=\"color: green; font-weight: bold\"></span> <span style=\"color: green; font-weight: bold\"></span>,<span style=\"color: green; font-weight: bold\"></span> <span style=\"color: green; font-weight: bold\"></span>a<span style=\"color: green; font-weight: bold\"></span>n<span style=\"color: green; font-weight: bold\"></span>d<span style=\"color: green; font-weight: bold\"></span> <span style=\"color: green; font-weight: bold\"></span>c<span style=\"color: green; font-weight: bold\"></span>h<span style=\"color: green; font-weight: bold\"></span>r<span style=\"color: green; font-weight: bold\"></span>o<span style=\"color: green; font-weight: bold\"></span>n<span style=\"color: green; font-weight: bold\"></span>i<span style=\"color: green; font-weight: bold\"></span>c<span style=\"color: green; font-weight: bold\"></span> <span style=\"color: green; font-weight: bold\"></span>l<span style=\"color: green; font-weight: bold\"></span>o<span style=\"color: green; font-weight: bold\"></span>w<span style=\"color: green; font-weight: bold\"></span>e<span style=\"color: green; font-weight: bold\"></span>r<span style=\"color: green; font-weight: bold\"></span> <span style=\"color: green; font-weight: bold\"></span>r<span style=\"color: green; font-weight: bold\"></span>e<span style=\"color: green; font-weight: bold\"></span>s<span style=\"color: green; font-weight: bold\"></span>p<span style=\"color: green; font-weight: bold\"></span>i<span style=\"color: green; font-weight: bold\"></span>r<span style=\"color: green; font-weight: bold\"></span>a<span style=\"color: green; font-weight: bold\"></span>t<span style=\"color: green; font-weight: bold\"></span>o<span style=\"color: green; font-weight: bold\"></span>r<span style=\"color: green; font-weight: bold\"></span>y<span style=\"color: green; font-weight: bold\"></span> <span style=\"color: green; font-weight: bold\"></span>d<span style=\"color: green; font-weight: bold\"></span>i<span style=\"color: green; font-weight: bold\"></span>s<span style=\"color: green; font-weight: bold\"></span>e<span style=\"color: green; font-weight: bold\"></span>a<span style=\"color: green; font-weight: bold\"></span>s<span style=\"color: green; font-weight: bold\"></span>e<span style=\"color: green; font-weight: bold\"></span>s<span style=\"color: green; font-weight: bold\"></span> <span style=\"color: green; font-weight: bold\"></span>w<span style=\"color: green; font-weight: bold\"></span>a<span style=\"color: green; font-weight: bold\"></span>s<span style=\"color: green; font-weight: bold\"></span> <span style=\"color: green; font-weight: bold\"></span>a<span style=\"color: green; font-weight: bold\"></span>s<span style=\"color: green; font-weight: bold\"></span>s<span style=\"color: green; font-weight: bold\"></span>o<span style=\"color: green; font-weight: bold\"></span>c<span style=\"color: green; font-weight: bold\"></span>i<span style=\"color: green; font-weight: bold\"></span>a<span style=\"color: green; font-weight: bold\"></span>t<span style=\"color: green; font-weight: bold\"></span>e<span style=\"color: green; font-weight: bold\"></span>d<span style=\"color: green; font-weight: bold\"></span> <span style=\"color: green; font-weight: bold\"></span>w<span style=\"color: green; font-weight: bold\"></span>i<span style=\"color: green; font-weight: bold\"></span>t<span style=\"color: green; font-weight: bold\"></span>h<span style=\"color: green; font-weight: bold\"></span> <span style=\"color: green; font-weight: bold\"></span>r<span style=\"color: green; font-weight: bold\"></span>e<span style=\"color: green; font-weight: bold\"></span>d<span style=\"color: green; font-weight: bold\"></span>u<span style=\"color: green; font-weight: bold\"></span>c<span style=\"color: green; font-weight: bold\"></span>e<span style=\"color: green; font-weight: bold\"></span>d<span style=\"color: green; font-weight: bold\"></span> <span style=\"color: green; font-weight: bold\"></span>c<span style=\"color: green; font-weight: bold\"></span>o<span style=\"color: green; font-weight: bold\"></span>v<span style=\"color: green; font-weight: bold\"></span>i<span style=\"color: green; font-weight: bold\"></span>d<span style=\"color: green; font-weight: bold\"></span>-<span style=\"color: green; font-weight: bold\"></span>1<span style=\"color: green; font-weight: bold\"></span>9<span style=\"color: green; font-weight: bold\"></span> <span style=\"color: green; font-weight: bold\"></span>r<span style=\"color: green; font-weight: bold\"></span>i<span style=\"color: green; font-weight: bold\"></span>s<span style=\"color: green; font-weight: bold\"></span>k<span style=\"color: green; font-weight: bold\"></span> <span style=\"color: green; font-weight: bold\"></span>.<span style=\"color: green; font-weight: bold\"></span> <span style=\"color: green; font-weight: bold\"></span>o<span style=\"color: green; font-weight: bold\"></span>b<span style=\"color: green; font-weight: bold\"></span>e<span style=\"color: green; font-weight: bold\"></span>s<span style=\"color: green; font-weight: bold\"></span>i<span style=\"color: green; font-weight: bold\"></span>t<span style=\"color: green; font-weight: bold\"></span>y<span style=\"color: green; font-weight: bold\"></span> <span style=\"color: green; font-weight: bold\"></span>a<span style=\"color: green; font-weight: bold\"></span>n<span style=\"color: green; font-weight: bold\"></span>d<span style=\"color: green; font-weight: bold\"></span></p>"
      ],
      "text/plain": [
       "<IPython.core.display.HTML object>"
      ]
     },
     "metadata": {},
     "output_type": "display_data"
    },
    {
     "data": {
      "text/html": [
       "<p>incidence knowledge <span style=\"color: green; font-weight: bold\">, and behaviors after adjusting for state-specific and survey date fixed effects . results : the largest differences in covid-19 knowledge and behaviors are associated with race/ethnicity , gender , and age</span> . african-americans , men , and people < 55 years old are less likely to know how the disease is spread , less likely to know</p>"
      ],
      "text/plain": [
       "<IPython.core.display.HTML object>"
      ]
     },
     "metadata": {},
     "output_type": "display_data"
    },
    {
     "data": {
      "text/html": [
       "<p><span style=\"color: green; font-weight: bold\">the condition of unimproved water sources were associated with increased covid-19 risk . other factors included temperature , humidity , social distancing , smoking , and vitamin d intake</span> . our comprehensive identification of the factors affecting covid-19 transmission and fatality may provide new insights into the covid-19 pandemic and advise effective strategies for preventing and migrating covid-19 spread.identifying novel</p>"
      ],
      "text/plain": [
       "<IPython.core.display.HTML object>"
      ]
     },
     "metadata": {},
     "output_type": "display_data"
    },
    {
     "data": {
      "text/html": [
       "<p>) . measurements : the independent variable was the timing of the covid-19 lockdown in england ( before vs. after march 2020 ) . dependent variables were : <span style=\"color: green; font-weight: bold\">prevalence of smoking and high-risk drinking</span> ; past-year cessation and quit attempts ( among past-year smokers ) ; past-year attempts to reduce alcohol consumption ( among high-risk drinkers ) ; and use</p>"
      ],
      "text/plain": [
       "<IPython.core.display.HTML object>"
      ]
     },
     "metadata": {},
     "output_type": "display_data"
    },
    {
     "data": {
      "text/html": [
       "<p>the virus responsible for covid-19 binds to the angiotensin converting enzyme-2 ( ace-2 ) receptor [ 1 ] . several articles have noted that <span style=\"color: green; font-weight: bold\">hypertension</span> is a risk factor for covid-19 [ 2-7 ] . it is currently difficult to distinguish between <span style=\"color: green; font-weight: bold\">hypertension</span> as an independent risk factor in covid-19 from one that co-varies with other patient factors such as</p>"
      ],
      "text/plain": [
       "<IPython.core.display.HTML object>"
      ]
     },
     "metadata": {},
     "output_type": "display_data"
    },
    {
     "data": {
      "text/html": [
       "<p><span style=\"color: green; font-weight: bold\">diabetes , hypertension , cad/cvd , or chronic pulmonary disease</span> have a higher risk of developing severe disease , with an or of 2.61 ( 95 % ci 1.93 to 3.52 ) , 2.84 ( 95 % ci 2.22 to 3.63 ) , 4.18 ( 95 % ci 2.87 to 6.09 ) and 3.83 ( 95 % ci 2.15 to</p>"
      ],
      "text/plain": [
       "<IPython.core.display.HTML object>"
      ]
     },
     "metadata": {},
     "output_type": "display_data"
    }
   ],
   "source": [
    "answers = getanswers(\"what are the risk factors ?\")\n",
    "showTopAnswers(answers)"
   ]
  },
  {
   "cell_type": "code",
   "execution_count": 18,
   "metadata": {},
   "outputs": [
    {
     "data": {
      "text/html": [
       "<p>crucial in differentiating congenital from perinatal infection . <span style=\"color: green; font-weight: bold\">neonatal infection is usually asymptomatic</span> . neonatal infection was diagnosed within 48 hours of life in 4 cases . detection rates of real-time pcr and the interpretation of igm and igg antibodies levels in cord and neonatal blood are discussed in relation with the immaturity of the fetal and neonatal immune system.evidence</p>"
      ],
      "text/plain": [
       "<IPython.core.display.HTML object>"
      ]
     },
     "metadata": {},
     "output_type": "display_data"
    },
    {
     "data": {
      "text/html": [
       "<p>, bvs , scielo and cuiden . in addition , the prisma methodology was applied . results ten studies were identified that assessed maternal and neonatal health after maternal covid-19 infection . pregnant women seem to had no serious symptoms . <span style=\"color: green; font-weight: bold\">neonates appeared to be affected to a greater extent</span> . a death was reported in a premature newborn whose</p>"
      ],
      "text/plain": [
       "<IPython.core.display.HTML object>"
      ]
     },
     "metadata": {},
     "output_type": "display_data"
    },
    {
     "data": {
      "text/html": [
       "<p><span style=\"color: green; font-weight: bold\"></span>o<span style=\"color: green; font-weight: bold\"></span>n<span style=\"color: green; font-weight: bold\"></span>e<span style=\"color: green; font-weight: bold\"></span> <span style=\"color: green; font-weight: bold\"></span>s<span style=\"color: green; font-weight: bold\"></span>t<span style=\"color: green; font-weight: bold\"></span>i<span style=\"color: green; font-weight: bold\"></span>l<span style=\"color: green; font-weight: bold\"></span>l<span style=\"color: green; font-weight: bold\"></span> <span style=\"color: green; font-weight: bold\"></span>b<span style=\"color: green; font-weight: bold\"></span>i<span style=\"color: green; font-weight: bold\"></span>r<span style=\"color: green; font-weight: bold\"></span>t<span style=\"color: green; font-weight: bold\"></span>h<span style=\"color: green; font-weight: bold\"></span> <span style=\"color: green; font-weight: bold\"></span>a<span style=\"color: green; font-weight: bold\"></span>n<span style=\"color: green; font-weight: bold\"></span>d<span style=\"color: green; font-weight: bold\"></span> <span style=\"color: green; font-weight: bold\"></span>o<span style=\"color: green; font-weight: bold\"></span>n<span style=\"color: green; font-weight: bold\"></span>e<span style=\"color: green; font-weight: bold\"></span> <span style=\"color: green; font-weight: bold\"></span>n<span style=\"color: green; font-weight: bold\"></span>e<span style=\"color: green; font-weight: bold\"></span>o<span style=\"color: green; font-weight: bold\"></span>n<span style=\"color: green; font-weight: bold\"></span>a<span style=\"color: green; font-weight: bold\"></span>t<span style=\"color: green; font-weight: bold\"></span>a<span style=\"color: green; font-weight: bold\"></span>l<span style=\"color: green; font-weight: bold\"></span> <span style=\"color: green; font-weight: bold\"></span>d<span style=\"color: green; font-weight: bold\"></span>e<span style=\"color: green; font-weight: bold\"></span>a<span style=\"color: green; font-weight: bold\"></span>t<span style=\"color: green; font-weight: bold\"></span>h<span style=\"color: green; font-weight: bold\"></span> <span style=\"color: green; font-weight: bold\"></span>r<span style=\"color: green; font-weight: bold\"></span>e<span style=\"color: green; font-weight: bold\"></span>p<span style=\"color: green; font-weight: bold\"></span>o<span style=\"color: green; font-weight: bold\"></span>r<span style=\"color: green; font-weight: bold\"></span>t<span style=\"color: green; font-weight: bold\"></span>e<span style=\"color: green; font-weight: bold\"></span>d<span style=\"color: green; font-weight: bold\"></span> <span style=\"color: green; font-weight: bold\"></span>.<span style=\"color: green; font-weight: bold\"></span> <span style=\"color: green; font-weight: bold\"></span>v<span style=\"color: green; font-weight: bold\"></span>e<span style=\"color: green; font-weight: bold\"></span>r<span style=\"color: green; font-weight: bold\"></span>t<span style=\"color: green; font-weight: bold\"></span>i<span style=\"color: green; font-weight: bold\"></span>c<span style=\"color: green; font-weight: bold\"></span>a<span style=\"color: green; font-weight: bold\"></span>l<span style=\"color: green; font-weight: bold\"></span> <span style=\"color: green; font-weight: bold\"></span>t<span style=\"color: green; font-weight: bold\"></span>r<span style=\"color: green; font-weight: bold\"></span>a<span style=\"color: green; font-weight: bold\"></span>n<span style=\"color: green; font-weight: bold\"></span>s<span style=\"color: green; font-weight: bold\"></span>m<span style=\"color: green; font-weight: bold\"></span>i<span style=\"color: green; font-weight: bold\"></span>s<span style=\"color: green; font-weight: bold\"></span>s<span style=\"color: green; font-weight: bold\"></span>i<span style=\"color: green; font-weight: bold\"></span>o<span style=\"color: green; font-weight: bold\"></span>n<span style=\"color: green; font-weight: bold\"></span> <span style=\"color: green; font-weight: bold\"></span>r<span style=\"color: green; font-weight: bold\"></span>a<span style=\"color: green; font-weight: bold\"></span>t<span style=\"color: green; font-weight: bold\"></span>e<span style=\"color: green; font-weight: bold\"></span> <span style=\"color: green; font-weight: bold\"></span>o<span style=\"color: green; font-weight: bold\"></span>f<span style=\"color: green; font-weight: bold\"></span> <span style=\"color: green; font-weight: bold\"></span>s<span style=\"color: green; font-weight: bold\"></span>a<span style=\"color: green; font-weight: bold\"></span>r<span style=\"color: green; font-weight: bold\"></span>s<span style=\"color: green; font-weight: bold\"></span>-<span style=\"color: green; font-weight: bold\"></span>c<span style=\"color: green; font-weight: bold\"></span>o<span style=\"color: green; font-weight: bold\"></span>v<span style=\"color: green; font-weight: bold\"></span>-<span style=\"color: green; font-weight: bold\"></span>2<span style=\"color: green; font-weight: bold\"></span> <span style=\"color: green; font-weight: bold\"></span>i<span style=\"color: green; font-weight: bold\"></span>s<span style=\"color: green; font-weight: bold\"></span> <span style=\"color: green; font-weight: bold\"></span>e<span style=\"color: green; font-weight: bold\"></span>s<span style=\"color: green; font-weight: bold\"></span>t<span style=\"color: green; font-weight: bold\"></span>i<span style=\"color: green; font-weight: bold\"></span>m<span style=\"color: green; font-weight: bold\"></span>a<span style=\"color: green; font-weight: bold\"></span>t<span style=\"color: green; font-weight: bold\"></span>e<span style=\"color: green; font-weight: bold\"></span>d<span style=\"color: green; font-weight: bold\"></span> <span style=\"color: green; font-weight: bold\"></span>t<span style=\"color: green; font-weight: bold\"></span>o<span style=\"color: green; font-weight: bold\"></span> <span style=\"color: green; font-weight: bold\"></span>b<span style=\"color: green; font-weight: bold\"></span>e<span style=\"color: green; font-weight: bold\"></span> <span style=\"color: green; font-weight: bold\"></span>1<span style=\"color: green; font-weight: bold\"></span>1<span style=\"color: green; font-weight: bold\"></span> <span style=\"color: green; font-weight: bold\"></span>%<span style=\"color: green; font-weight: bold\"></span> <span style=\"color: green; font-weight: bold\"></span>.<span style=\"color: green; font-weight: bold\"></span> <span style=\"color: green; font-weight: bold\"></span>c<span style=\"color: green; font-weight: bold\"></span>o<span style=\"color: green; font-weight: bold\"></span>n<span style=\"color: green; font-weight: bold\"></span>c<span style=\"color: green; font-weight: bold\"></span>l<span style=\"color: green; font-weight: bold\"></span>u<span style=\"color: green; font-weight: bold\"></span>s<span style=\"color: green; font-weight: bold\"></span>i<span style=\"color: green; font-weight: bold\"></span>o<span style=\"color: green; font-weight: bold\"></span>n<span style=\"color: green; font-weight: bold\"></span> <span style=\"color: green; font-weight: bold\"></span>i<span style=\"color: green; font-weight: bold\"></span>n<span style=\"color: green; font-weight: bold\"></span> <span style=\"color: green; font-weight: bold\"></span>p<span style=\"color: green; font-weight: bold\"></span>r<span style=\"color: green; font-weight: bold\"></span>e<span style=\"color: green; font-weight: bold\"></span>g<span style=\"color: green; font-weight: bold\"></span>n<span style=\"color: green; font-weight: bold\"></span>a<span style=\"color: green; font-weight: bold\"></span>n<span style=\"color: green; font-weight: bold\"></span>t<span style=\"color: green; font-weight: bold\"></span> <span style=\"color: green; font-weight: bold\"></span>w<span style=\"color: green; font-weight: bold\"></span>o<span style=\"color: green; font-weight: bold\"></span>m<span style=\"color: green; font-weight: bold\"></span>e<span style=\"color: green; font-weight: bold\"></span>n<span style=\"color: green; font-weight: bold\"></span> <span style=\"color: green; font-weight: bold\"></span>w<span style=\"color: green; font-weight: bold\"></span>i<span style=\"color: green; font-weight: bold\"></span>t<span style=\"color: green; font-weight: bold\"></span>h<span style=\"color: green; font-weight: bold\"></span> <span style=\"color: green; font-weight: bold\"></span>c<span style=\"color: green; font-weight: bold\"></span>o<span style=\"color: green; font-weight: bold\"></span>v<span style=\"color: green; font-weight: bold\"></span>i<span style=\"color: green; font-weight: bold\"></span>d<span style=\"color: green; font-weight: bold\"></span>-<span style=\"color: green; font-weight: bold\"></span>1<span style=\"color: green; font-weight: bold\"></span>9<span style=\"color: green; font-weight: bold\"></span> <span style=\"color: green; font-weight: bold\"></span>,<span style=\"color: green; font-weight: bold\"></span> <span style=\"color: green; font-weight: bold\"></span>d<span style=\"color: green; font-weight: bold\"></span>i<span style=\"color: green; font-weight: bold\"></span>a<span style=\"color: green; font-weight: bold\"></span>b<span style=\"color: green; font-weight: bold\"></span>e<span style=\"color: green; font-weight: bold\"></span>t<span style=\"color: green; font-weight: bold\"></span>e<span style=\"color: green; font-weight: bold\"></span>s<span style=\"color: green; font-weight: bold\"></span> <span style=\"color: green; font-weight: bold\"></span>a<span style=\"color: green; font-weight: bold\"></span>n<span style=\"color: green; font-weight: bold\"></span>d<span style=\"color: green; font-weight: bold\"></span> <span style=\"color: green; font-weight: bold\"></span>h<span style=\"color: green; font-weight: bold\"></span>y<span style=\"color: green; font-weight: bold\"></span>p<span style=\"color: green; font-weight: bold\"></span>e<span style=\"color: green; font-weight: bold\"></span>r<span style=\"color: green; font-weight: bold\"></span>t<span style=\"color: green; font-weight: bold\"></span>e<span style=\"color: green; font-weight: bold\"></span>n<span style=\"color: green; font-weight: bold\"></span>s<span style=\"color: green; font-weight: bold\"></span>i<span style=\"color: green; font-weight: bold\"></span>v<span style=\"color: green; font-weight: bold\"></span>e<span style=\"color: green; font-weight: bold\"></span> <span style=\"color: green; font-weight: bold\"></span>d<span style=\"color: green; font-weight: bold\"></span>i<span style=\"color: green; font-weight: bold\"></span>s<span style=\"color: green; font-weight: bold\"></span>o<span style=\"color: green; font-weight: bold\"></span>r<span style=\"color: green; font-weight: bold\"></span>d<span style=\"color: green; font-weight: bold\"></span>e<span style=\"color: green; font-weight: bold\"></span>r<span style=\"color: green; font-weight: bold\"></span>s<span style=\"color: green; font-weight: bold\"></span> <span style=\"color: green; font-weight: bold\"></span>a<span style=\"color: green; font-weight: bold\"></span>r<span style=\"color: green; font-weight: bold\"></span>e<span style=\"color: green; font-weight: bold\"></span> <span style=\"color: green; font-weight: bold\"></span>c<span style=\"color: green; font-weight: bold\"></span>o<span style=\"color: green; font-weight: bold\"></span>m<span style=\"color: green; font-weight: bold\"></span>m<span style=\"color: green; font-weight: bold\"></span>o<span style=\"color: green; font-weight: bold\"></span>n<span style=\"color: green; font-weight: bold\"></span> <span style=\"color: green; font-weight: bold\"></span>c<span style=\"color: green; font-weight: bold\"></span>o<span style=\"color: green; font-weight: bold\"></span>-<span style=\"color: green; font-weight: bold\"></span>m<span style=\"color: green; font-weight: bold\"></span>o<span style=\"color: green; font-weight: bold\"></span>r<span style=\"color: green; font-weight: bold\"></span>b<span style=\"color: green; font-weight: bold\"></span>i<span style=\"color: green; font-weight: bold\"></span>d<span style=\"color: green; font-weight: bold\"></span>i<span style=\"color: green; font-weight: bold\"></span>t<span style=\"color: green; font-weight: bold\"></span>i<span style=\"color: green; font-weight: bold\"></span>e<span style=\"color: green; font-weight: bold\"></span>s<span style=\"color: green; font-weight: bold\"></span> <span style=\"color: green; font-weight: bold\"></span>a<span style=\"color: green; font-weight: bold\"></span>n<span style=\"color: green; font-weight: bold\"></span>d<span style=\"color: green; font-weight: bold\"></span> <span style=\"color: green; font-weight: bold\"></span>t<span style=\"color: green; font-weight: bold\"></span>h<span style=\"color: green; font-weight: bold\"></span>e<span style=\"color: green; font-weight: bold\"></span>r<span style=\"color: green; font-weight: bold\"></span>e<span style=\"color: green; font-weight: bold\"></span> <span style=\"color: green; font-weight: bold\"></span>i<span style=\"color: green; font-weight: bold\"></span>s<span style=\"color: green; font-weight: bold\"></span> <span style=\"color: green; font-weight: bold\"></span>a<span style=\"color: green; font-weight: bold\"></span> <span style=\"color: green; font-weight: bold\"></span>r<span style=\"color: green; font-weight: bold\"></span>i<span style=\"color: green; font-weight: bold\"></span>s<span style=\"color: green; font-weight: bold\"></span>k<span style=\"color: green; font-weight: bold\"></span> <span style=\"color: green; font-weight: bold\"></span>o<span style=\"color: green; font-weight: bold\"></span>f<span style=\"color: green; font-weight: bold\"></span> <span style=\"color: green; font-weight: bold\"></span>p<span style=\"color: green; font-weight: bold\"></span>r<span style=\"color: green; font-weight: bold\"></span>e<span style=\"color: green; font-weight: bold\"></span>t<span style=\"color: green; font-weight: bold\"></span>e<span style=\"color: green; font-weight: bold\"></span>r<span style=\"color: green; font-weight: bold\"></span>m<span style=\"color: green; font-weight: bold\"></span> <span style=\"color: green; font-weight: bold\"></span>d<span style=\"color: green; font-weight: bold\"></span>e<span style=\"color: green; font-weight: bold\"></span>l<span style=\"color: green; font-weight: bold\"></span>i<span style=\"color: green; font-weight: bold\"></span>v<span style=\"color: green; font-weight: bold\"></span>e<span style=\"color: green; font-weight: bold\"></span>r<span style=\"color: green; font-weight: bold\"></span>y<span style=\"color: green; font-weight: bold\"></span> <span style=\"color: green; font-weight: bold\"></span>.<span style=\"color: green; font-weight: bold\"></span> <span style=\"color: green; font-weight: bold\"></span>a<span style=\"color: green; font-weight: bold\"></span>m<span style=\"color: green; font-weight: bold\"></span>o<span style=\"color: green; font-weight: bold\"></span>n<span style=\"color: green; font-weight: bold\"></span>g<span style=\"color: green; font-weight: bold\"></span>s<span style=\"color: green; font-weight: bold\"></span>t<span style=\"color: green; font-weight: bold\"></span> <span style=\"color: green; font-weight: bold\"></span>t<span style=\"color: green; font-weight: bold\"></span>h<span style=\"color: green; font-weight: bold\"></span>e<span style=\"color: green; font-weight: bold\"></span> <span style=\"color: green; font-weight: bold\"></span>n<span style=\"color: green; font-weight: bold\"></span>e<span style=\"color: green; font-weight: bold\"></span>o<span style=\"color: green; font-weight: bold\"></span>n<span style=\"color: green; font-weight: bold\"></span>a<span style=\"color: green; font-weight: bold\"></span>t<span style=\"color: green; font-weight: bold\"></span>e<span style=\"color: green; font-weight: bold\"></span>s<span style=\"color: green; font-weight: bold\"></span> <span style=\"color: green; font-weight: bold\"></span>b<span style=\"color: green; font-weight: bold\"></span>o<span style=\"color: green; font-weight: bold\"></span>r<span style=\"color: green; font-weight: bold\"></span>n<span style=\"color: green; font-weight: bold\"></span> <span style=\"color: green; font-weight: bold\"></span>t<span style=\"color: green; font-weight: bold\"></span>o<span style=\"color: green; font-weight: bold\"></span> <span style=\"color: green; font-weight: bold\"></span>m<span style=\"color: green; font-weight: bold\"></span>o<span style=\"color: green; font-weight: bold\"></span>t<span style=\"color: green; font-weight: bold\"></span>h<span style=\"color: green; font-weight: bold\"></span>e<span style=\"color: green; font-weight: bold\"></span>r<span style=\"color: green; font-weight: bold\"></span>s<span style=\"color: green; font-weight: bold\"></span> <span style=\"color: green; font-weight: bold\"></span>w<span style=\"color: green; font-weight: bold\"></span>i<span style=\"color: green; font-weight: bold\"></span>t<span style=\"color: green; font-weight: bold\"></span>h<span style=\"color: green; font-weight: bold\"></span> <span style=\"color: green; font-weight: bold\"></span>c<span style=\"color: green; font-weight: bold\"></span>o<span style=\"color: green; font-weight: bold\"></span>v<span style=\"color: green; font-weight: bold\"></span>i<span style=\"color: green; font-weight: bold\"></span>d<span style=\"color: green; font-weight: bold\"></span>-<span style=\"color: green; font-weight: bold\"></span>1<span style=\"color: green; font-weight: bold\"></span>9<span style=\"color: green; font-weight: bold\"></span> <span style=\"color: green; font-weight: bold\"></span>,<span style=\"color: green; font-weight: bold\"></span> <span style=\"color: green; font-weight: bold\"></span>r<span style=\"color: green; font-weight: bold\"></span>e<span style=\"color: green; font-weight: bold\"></span>s<span style=\"color: green; font-weight: bold\"></span>p<span style=\"color: green; font-weight: bold\"></span>i<span style=\"color: green; font-weight: bold\"></span>r<span style=\"color: green; font-weight: bold\"></span>a<span style=\"color: green; font-weight: bold\"></span>t<span style=\"color: green; font-weight: bold\"></span>o<span style=\"color: green; font-weight: bold\"></span>r<span style=\"color: green; font-weight: bold\"></span>y<span style=\"color: green; font-weight: bold\"></span> <span style=\"color: green; font-weight: bold\"></span>d<span style=\"color: green; font-weight: bold\"></span>i<span style=\"color: green; font-weight: bold\"></span>s<span style=\"color: green; font-weight: bold\"></span>t<span style=\"color: green; font-weight: bold\"></span>r<span style=\"color: green; font-weight: bold\"></span>e<span style=\"color: green; font-weight: bold\"></span>s<span style=\"color: green; font-weight: bold\"></span>s<span style=\"color: green; font-weight: bold\"></span> <span style=\"color: green; font-weight: bold\"></span>s<span style=\"color: green; font-weight: bold\"></span>y<span style=\"color: green; font-weight: bold\"></span>n<span style=\"color: green; font-weight: bold\"></span>d<span style=\"color: green; font-weight: bold\"></span>r<span style=\"color: green; font-weight: bold\"></span>o<span style=\"color: green; font-weight: bold\"></span>m<span style=\"color: green; font-weight: bold\"></span>e<span style=\"color: green; font-weight: bold\"></span> <span style=\"color: green; font-weight: bold\"></span>a<span style=\"color: green; font-weight: bold\"></span>n<span style=\"color: green; font-weight: bold\"></span>d<span style=\"color: green; font-weight: bold\"></span> <span style=\"color: green; font-weight: bold\"></span>p<span style=\"color: green; font-weight: bold\"></span>n<span style=\"color: green; font-weight: bold\"></span>e<span style=\"color: green; font-weight: bold\"></span>u<span style=\"color: green; font-weight: bold\"></span>m<span style=\"color: green; font-weight: bold\"></span>o<span style=\"color: green; font-weight: bold\"></span>n<span style=\"color: green; font-weight: bold\"></span>i<span style=\"color: green; font-weight: bold\"></span>a<span style=\"color: green; font-weight: bold\"></span> <span style=\"color: green; font-weight: bold\"></span>a<span style=\"color: green; font-weight: bold\"></span>r<span style=\"color: green; font-weight: bold\"></span>e<span style=\"color: green; font-weight: bold\"></span> <span style=\"color: green; font-weight: bold\"></span>c<span style=\"color: green; font-weight: bold\"></span>o<span style=\"color: green; font-weight: bold\"></span>m<span style=\"color: green; font-weight: bold\"></span>m<span style=\"color: green; font-weight: bold\"></span>o<span style=\"color: green; font-weight: bold\"></span>n<span style=\"color: green; font-weight: bold\"></span></p>"
      ],
      "text/plain": [
       "<IPython.core.display.HTML object>"
      ]
     },
     "metadata": {},
     "output_type": "display_data"
    },
    {
     "data": {
      "text/html": [
       "<p>since december 2019 , there has been an outbreak of novel coronavirus ( 2019-ncov ) infection in china . two cases of neonates with positive 2019-ncov tests have been reported . due to the <span style=\"color: green; font-weight: bold\">immature immune system and the possibility of vertical transmission from mother to infant , neonates have become a high-risk group susceptible</span> to 2019-ncov , which emphasize</p>"
      ],
      "text/plain": [
       "<IPython.core.display.HTML object>"
      ]
     },
     "metadata": {},
     "output_type": "display_data"
    },
    {
     "data": {
      "text/html": [
       "<p><span style=\"color: green; font-weight: bold\">milk . viremia was present in 1 % of symptomatic adults . we identified 12 articles published between february 10th and april 4th 2020 reporting on 68 deliveries and 71 neonates with maternal infection in the third trimester of pregnancy</span> . perinatal exposure , including mode of delivery and time interval from delivery to the diagnosis of neonatal infection are</p>"
      ],
      "text/plain": [
       "<IPython.core.display.HTML object>"
      ]
     },
     "metadata": {},
     "output_type": "display_data"
    },
    {
     "data": {
      "text/html": [
       "<p>abstract objective : the aim of this systematic review was to examine published and preprint reports for <span style=\"color: green; font-weight: bold\">maternal and fetal outcomes in pregnant women with covid-19 and also assess the incidence of maternal-fetal transmission</span> of sars co-v-2 infection . design : systematic review data sources : we searched pumbed . medline , embase , medrxiv and biorxiv databases upto 31st</p>"
      ],
      "text/plain": [
       "<IPython.core.display.HTML object>"
      ]
     },
     "metadata": {},
     "output_type": "display_data"
    },
    {
     "data": {
      "text/html": [
       "<p><span style=\"color: green; font-weight: bold\">a close cooperation from both perinatal and neonatal pediatrics . in neonatal intensive care unit ( nicu ) , to prevent and control infection</span> , there should be practical measures to ensure the optimal management of children potentially to be infected . according to the latest 2019-ncov national management plan and the actual situation , the chinese neonatal 2019-ncov expert</p>"
      ],
      "text/plain": [
       "<IPython.core.display.HTML object>"
      ]
     },
     "metadata": {},
     "output_type": "display_data"
    },
    {
     "data": {
      "text/html": [
       "<p>13 ( 39.4 % ) ,19 ( 57.6 % ) , and 1 ( 3 % ) . <span style=\"color: green; font-weight: bold\">one ( 3.6 % ) newborn developed ards</span> and was admitted to the nicu . the rate of perinatal transmission of sars-cov-2 was 3.6 % . conclusions this report suggests that pregnant women are not at increased risk for severe illness or</p>"
      ],
      "text/plain": [
       "<IPython.core.display.HTML object>"
      ]
     },
     "metadata": {},
     "output_type": "display_data"
    }
   ],
   "source": [
    "answers = getanswers(\"how will the virus affect neonates ?\")\n",
    "showTopAnswers(answers)"
   ]
  },
  {
   "cell_type": "code",
   "execution_count": 19,
   "metadata": {},
   "outputs": [
    {
     "data": {
      "text/html": [
       "<p>cells , immune fitness of adaptive immune cells or cross-protection of antibodies in the children . therefore , due to lack of specific vaccine , some vaccines for tuberculosis , influenza and pneumonia may have certain application potential for the front-line health workers in the prevention and control of covid-19 . however , for high-risk <span style=\"color: green; font-weight: bold\">susceptible populations</span> , such as</p>"
      ],
      "text/plain": [
       "<IPython.core.display.HTML object>"
      ]
     },
     "metadata": {},
     "output_type": "display_data"
    },
    {
     "data": {
      "text/html": [
       "<p>cells , immune fitness of adaptive immune cells or cross-protection of antibodies in the children . therefore , due to lack of specific vaccine , some vaccines for tuberculosis , influenza and pneumonia may have certain application potential for the front-line health workers in the prevention and control of covid-19 . however , for high-risk <span style=\"color: green; font-weight: bold\">susceptible populations</span> , such as</p>"
      ],
      "text/plain": [
       "<IPython.core.display.HTML object>"
      ]
     },
     "metadata": {},
     "output_type": "display_data"
    },
    {
     "data": {
      "text/html": [
       "<p>. responses were analysed with descriptive statistics and logistic regressions . results : people with diabetes have covid‐19‐specific worries related to their diabetes . <span style=\"color: green; font-weight: bold\">more than half</span> were worried about being overly affected due to diabetes if infected with covid‐19 , about one‐third about being characterized as a risk group due to diabetes and not being able to manage diabetes</p>"
      ],
      "text/plain": [
       "<IPython.core.display.HTML object>"
      ]
     },
     "metadata": {},
     "output_type": "display_data"
    },
    {
     "data": {
      "text/html": [
       "<p><span style=\"color: green; font-weight: bold\">, bvs , scielo and cuiden . in addition , the prisma methodology was applied . results ten studies were identified that assessed maternal and neonatal health after maternal covid-19 infection . pregnant women seem to had no serious symptoms</span> . neonates appeared to be affected to a greater extent . a death was reported in a premature newborn whose</p>"
      ],
      "text/plain": [
       "<IPython.core.display.HTML object>"
      ]
     },
     "metadata": {},
     "output_type": "display_data"
    },
    {
     "data": {
      "text/html": [
       "<p>. responses were analysed with descriptive statistics and logistic regressions . results : people with diabetes have covid-19-specific worries related to their diabetes . <span style=\"color: green; font-weight: bold\">more than half</span> were worried about being overly affected due to diabetes if infected with covid-19 , about one-third about being characterized as a risk group due to diabetes and not being able to manage diabetes</p>"
      ],
      "text/plain": [
       "<IPython.core.display.HTML object>"
      ]
     },
     "metadata": {},
     "output_type": "display_data"
    },
    {
     "data": {
      "text/html": [
       "<p>abstract diabetes is among the most frequently reported comorbidities in patients infected with covid-19 . according to current data , <span style=\"color: green; font-weight: bold\">diabetic patients do not appear to be at increased risk of contracting sars-cov-2 compared to the general population</span> . on the other hand , diabetes is a risk factor for developing severe and critical forms of covid-19 , the latter</p>"
      ],
      "text/plain": [
       "<IPython.core.display.HTML object>"
      ]
     },
     "metadata": {},
     "output_type": "display_data"
    },
    {
     "data": {
      "text/html": [
       "<p><span style=\"color: green; font-weight: bold\">diabetes is among the most frequently reported comorbidities in patients infected with covid-19 . according to current data , diabetic patients do not appear to be at increased risk of contracting sars-cov-2 compared to the general population</span> . on the other hand , diabetes is a risk factor for developing severe and critical forms of covid-19 , the latter requiring</p>"
      ],
      "text/plain": [
       "<IPython.core.display.HTML object>"
      ]
     },
     "metadata": {},
     "output_type": "display_data"
    },
    {
     "data": {
      "text/html": [
       "<p><span style=\"color: green; font-weight: bold\">of pre-symptomatic transmission</span> . methods : we collected outbreak information from singapore and tianjin , china , reported from jan.19-feb.26 and jan.21-feb.27 , respectively . we estimated incubation periods and serial intervals in both populations . results : the mean incubation period was 7.1 ( 6.13 , 8.25 ) days for singapore and 9 ( 7.92 , 10.2 ) days</p>"
      ],
      "text/plain": [
       "<IPython.core.display.HTML object>"
      ]
     },
     "metadata": {},
     "output_type": "display_data"
    }
   ],
   "source": [
    "answers = getanswers(\"are infected diabetic patients at risk?\")\n",
    "showTopAnswers(answers)"
   ]
  },
  {
   "cell_type": "code",
   "execution_count": 21,
   "metadata": {},
   "outputs": [
    {
     "data": {
      "text/html": [
       "<p>the incidence of covid-19 in <span style=\"color: green; font-weight: bold\">children and teenagers is only about 2 % in china . children had mild symptoms and hardly infected other children or adults</span> . it is worth considering that children are the most vulnerable to respiratory pathogens , but fatal sars-like virus had not caused severe cases among them . according to the pathological studies of</p>"
      ],
      "text/plain": [
       "<IPython.core.display.HTML object>"
      ]
     },
     "metadata": {},
     "output_type": "display_data"
    },
    {
     "data": {
      "text/html": [
       "<p>the incidence of covid-19 in <span style=\"color: green; font-weight: bold\">children and teenagers is only about 2 % in china . children had mild symptoms and hardly infected other children or adults</span> . it is worth considering that children are the most vulnerable to respiratory pathogens , but fatal sars-like virus had not caused severe cases among them . according to the pathological studies of</p>"
      ],
      "text/plain": [
       "<IPython.core.display.HTML object>"
      ]
     },
     "metadata": {},
     "output_type": "display_data"
    },
    {
     "data": {
      "text/html": [
       "<p>, bvs , scielo and cuiden . in addition , the prisma methodology was applied . results ten studies were identified that assessed maternal and neonatal health after maternal covid-19 infection . pregnant women seem to had no serious symptoms . <span style=\"color: green; font-weight: bold\">neonates appeared to be affected to a greater extent</span> . a death was reported in a premature newborn whose</p>"
      ],
      "text/plain": [
       "<IPython.core.display.HTML object>"
      ]
     },
     "metadata": {},
     "output_type": "display_data"
    },
    {
     "data": {
      "text/html": [
       "<p>was no statistical difference in the crude cure rate [ 10/15 ( 66.7 % ) vs 15/21 ( 71.4 % ) ] and the crude mortality rate [ 2/15 ( 13.3 % ) vs 5/21 ( 23.8 % ) ] . in conclusions , the covid-19 patients with a history of hypertension had a significantly <span style=\"color: green; font-weight: bold\">lower lymphocyte count on admission</span></p>"
      ],
      "text/plain": [
       "<IPython.core.display.HTML object>"
      ]
     },
     "metadata": {},
     "output_type": "display_data"
    },
    {
     "data": {
      "text/html": [
       "<p>hypertension patients are able to <span style=\"color: green; font-weight: bold\">avoid severe disease when they are in home quarantine</span> . medication supplement is important for pulmonary hypertension patients when their heart function is well maintained . in addition , there might be increasing requirements of medical care for pulmonary hypertension patients after the outbreak.understanding the current status of patients with pulmonary hypertension during covid-19 outbreak</p>"
      ],
      "text/plain": [
       "<IPython.core.display.HTML object>"
      ]
     },
     "metadata": {},
     "output_type": "display_data"
    },
    {
     "data": {
      "text/html": [
       "<p>rate [ 10/15 ( 66.7 % ) vs 15/21 ( 71.4 % ) ] and the crude mortality rate [ 2/15 ( 13.3 % ) vs 5/21 ( 23.8 % ) ] . in conclusions , the covid-19 patients with a history of hypertension had a <span style=\"color: green; font-weight: bold\">significantly lower lymphocyte count on admission</span> . the elderly and comorbidities such as hypertension</p>"
      ],
      "text/plain": [
       "<IPython.core.display.HTML object>"
      ]
     },
     "metadata": {},
     "output_type": "display_data"
    },
    {
     "data": {
      "text/html": [
       "<p><span style=\"color: green; font-weight: bold\">form of covid-19 . in this review , we provide a critical review to the following questions : ( 1 ) does hypertension influence immunity</span> or ace2 expression favoring viral infections ? ( 2 ) are the risks of complications in hypertension mediated by its treatment ? ( 3 ) is aging a major factor associated with worse prognosis in</p>"
      ],
      "text/plain": [
       "<IPython.core.display.HTML object>"
      ]
     },
     "metadata": {},
     "output_type": "display_data"
    },
    {
     "data": {
      "text/html": [
       "<p>covid-19 mortality or severity . covid-19 <span style=\"color: green; font-weight: bold\">patients with hypertension were more likely than patients without hypertension to have severe pneumonia , excessive inflammatory reactions , organ and tissue damage , and deterioration of the disease . patients with hypertension should be given additional attention to prevent worsening of their condition</span>.covid-19 patients with hypertension have more severe disease : a multicenter</p>"
      ],
      "text/plain": [
       "<IPython.core.display.HTML object>"
      ]
     },
     "metadata": {},
     "output_type": "display_data"
    }
   ],
   "source": [
    "answers = getanswers(\"how will hypertension affect patients?\")\n",
    "showTopAnswers(answers)"
   ]
  }
 ],
 "metadata": {
  "kernelspec": {
   "display_name": "Python 3",
   "language": "python",
   "name": "python3"
  },
  "language_info": {
   "codemirror_mode": {
    "name": "ipython",
    "version": 3
   },
   "file_extension": ".py",
   "mimetype": "text/x-python",
   "name": "python",
   "nbconvert_exporter": "python",
   "pygments_lexer": "ipython3",
   "version": "3.7.6"
  }
 },
 "nbformat": 4,
 "nbformat_minor": 4
}
