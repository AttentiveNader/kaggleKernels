{
 "cells": [
  {
   "cell_type": "markdown",
   "metadata": {},
   "source": [
    "link for this kaggle kernel : https://www.kaggle.com/nadergo/english-to-arabic-with-a-pytorch-transformer"
   ]
  },
  {
   "cell_type": "markdown",
   "metadata": {},
   "source": [
    "for this notebook we will build a pytorch transformer to translate english sentences into arabic,\n",
    "main limitation here is lack of publicly available data"
   ]
  },
  {
   "cell_type": "markdown",
   "metadata": {},
   "source": [
    "I will be using torchtext it's really good for preparing the data, it has a good documentation also those are links about an example using torchtext and a tutorial\n",
    "\n",
    "https://www.analyticsvidhya.com/blog/2020/01/first-text-classification-in-pytorch/\n",
    "\n",
    "http://mlexplained.com/2018/02/08/a-comprehensive-tutorial-to-torchtext/"
   ]
  },
  {
   "cell_type": "markdown",
   "metadata": {},
   "source": [
    "to understand how the transformer works, I recommend these videos \n",
    "\n",
    "https://www.youtube.com/watch?v=U0s0f995w14&t=2522s\n",
    "\n",
    "https://www.youtube.com/watch?v=M6adRGJe5cQ&t=1781s"
   ]
  },
  {
   "cell_type": "code",
   "execution_count": 1,
   "metadata": {},
   "outputs": [
    {
     "name": "stdout",
     "output_type": "stream",
     "text": [
      "gpu up\n"
     ]
    }
   ],
   "source": [
    "\"\"\"\n",
    "torch modules\n",
    "with ofc  numpy  and pandas\n",
    "\n",
    "\"\"\"\n",
    "\n",
    "import pandas as pd\n",
    "import numpy as np \n",
    "\n",
    "from torch import nn\n",
    "import torch\n",
    "from torchtext import data\n",
    "from torch.nn  import functional as F\n",
    "import torch.optim as  optim \n",
    "if torch.cuda.is_available():  \n",
    "  dev = \"cuda:0\" \n",
    "\n",
    "  print(\"gpu up\")\n",
    "else:  \n",
    "  dev = \"cpu\"  \n",
    "device = torch.device(dev)"
   ]
  },
  {
   "cell_type": "code",
   "execution_count": 2,
   "metadata": {},
   "outputs": [],
   "source": [
    "import random\n",
    "SEED= 32"
   ]
  },
  {
   "cell_type": "code",
   "execution_count": 3,
   "metadata": {},
   "outputs": [],
   "source": [
    "\"\"\"\n",
    "regex and the tokenizers\n",
    "\"\"\"\n",
    "\n",
    "import re\n",
    "from spacy.tokenizer import Tokenizer\n",
    "from spacy.lang.en import English\n",
    "from spacy.lang.ar import Arabic\n",
    "from nltk.translate.bleu_score import sentence_bleu\n",
    "\n",
    "enNLP = English()\n",
    "arNLP = Arabic()\n",
    "\n",
    "enTokenizer = Tokenizer(enNLP.vocab)\n",
    "arTokenizer =  Tokenizer(arNLP.vocab)\n",
    "\n",
    "\n"
   ]
  },
  {
   "cell_type": "code",
   "execution_count": 4,
   "metadata": {
    "_cell_guid": "79c7e3d0-c299-4dcb-8224-4455121ee9b0",
    "_uuid": "d629ff2d2480ee46fbb7e2d37f6b5fab8052498a"
   },
   "outputs": [],
   "source": [
    "df = pd.read_csv(\"/kaggle/input/arabic-to-english-translation-sentences/ara_eng.txt\",delimiter=\"\\t\",names=[\"eng\",\"ar\"])"
   ]
  },
  {
   "cell_type": "code",
   "execution_count": 5,
   "metadata": {},
   "outputs": [
    {
     "data": {
      "text/html": [
       "<div>\n",
       "<style scoped>\n",
       "    .dataframe tbody tr th:only-of-type {\n",
       "        vertical-align: middle;\n",
       "    }\n",
       "\n",
       "    .dataframe tbody tr th {\n",
       "        vertical-align: top;\n",
       "    }\n",
       "\n",
       "    .dataframe thead th {\n",
       "        text-align: right;\n",
       "    }\n",
       "</style>\n",
       "<table border=\"1\" class=\"dataframe\">\n",
       "  <thead>\n",
       "    <tr style=\"text-align: right;\">\n",
       "      <th></th>\n",
       "      <th>eng</th>\n",
       "      <th>ar</th>\n",
       "    </tr>\n",
       "  </thead>\n",
       "  <tbody>\n",
       "    <tr>\n",
       "      <th>0</th>\n",
       "      <td>Hi.</td>\n",
       "      <td>مرحبًا.</td>\n",
       "    </tr>\n",
       "    <tr>\n",
       "      <th>1</th>\n",
       "      <td>Run!</td>\n",
       "      <td>اركض!</td>\n",
       "    </tr>\n",
       "    <tr>\n",
       "      <th>2</th>\n",
       "      <td>Help!</td>\n",
       "      <td>النجدة!</td>\n",
       "    </tr>\n",
       "    <tr>\n",
       "      <th>3</th>\n",
       "      <td>Jump!</td>\n",
       "      <td>اقفز!</td>\n",
       "    </tr>\n",
       "    <tr>\n",
       "      <th>4</th>\n",
       "      <td>Stop!</td>\n",
       "      <td>قف!</td>\n",
       "    </tr>\n",
       "    <tr>\n",
       "      <th>...</th>\n",
       "      <td>...</td>\n",
       "      <td>...</td>\n",
       "    </tr>\n",
       "    <tr>\n",
       "      <th>24633</th>\n",
       "      <td>rising voices promoting a more linguistically ...</td>\n",
       "      <td>شاركنا تحدي ابداع ميم بلغتك الام تعزيزا للتنوع...</td>\n",
       "    </tr>\n",
       "    <tr>\n",
       "      <th>24634</th>\n",
       "      <td>following last year s successful campaign we i...</td>\n",
       "      <td>استكمالا لنجاح حملة العام السابق ندعوكم للمشار...</td>\n",
       "    </tr>\n",
       "    <tr>\n",
       "      <th>24635</th>\n",
       "      <td>during last year s challenge we also met langu...</td>\n",
       "      <td>تعرفنا خلال تحدي العام الماضي على ابطال لغويين...</td>\n",
       "    </tr>\n",
       "    <tr>\n",
       "      <th>24636</th>\n",
       "      <td>to take part just follow the simple steps outl...</td>\n",
       "      <td>للمشاركة في التحدي اتبع الخطوات الموضحة على ال...</td>\n",
       "    </tr>\n",
       "    <tr>\n",
       "      <th>24637</th>\n",
       "      <td>you will also find links to some free web base...</td>\n",
       "      <td>ستجد ايضا روابط لمجموعة من منصات ابداع الميم ا...</td>\n",
       "    </tr>\n",
       "  </tbody>\n",
       "</table>\n",
       "<p>24638 rows × 2 columns</p>\n",
       "</div>"
      ],
      "text/plain": [
       "                                                     eng  \\\n",
       "0                                                    Hi.   \n",
       "1                                                   Run!   \n",
       "2                                                  Help!   \n",
       "3                                                  Jump!   \n",
       "4                                                  Stop!   \n",
       "...                                                  ...   \n",
       "24633  rising voices promoting a more linguistically ...   \n",
       "24634  following last year s successful campaign we i...   \n",
       "24635  during last year s challenge we also met langu...   \n",
       "24636  to take part just follow the simple steps outl...   \n",
       "24637  you will also find links to some free web base...   \n",
       "\n",
       "                                                      ar  \n",
       "0                                                مرحبًا.  \n",
       "1                                                  اركض!  \n",
       "2                                                النجدة!  \n",
       "3                                                  اقفز!  \n",
       "4                                                    قف!  \n",
       "...                                                  ...  \n",
       "24633  شاركنا تحدي ابداع ميم بلغتك الام تعزيزا للتنوع...  \n",
       "24634  استكمالا لنجاح حملة العام السابق ندعوكم للمشار...  \n",
       "24635  تعرفنا خلال تحدي العام الماضي على ابطال لغويين...  \n",
       "24636  للمشاركة في التحدي اتبع الخطوات الموضحة على ال...  \n",
       "24637  ستجد ايضا روابط لمجموعة من منصات ابداع الميم ا...  \n",
       "\n",
       "[24638 rows x 2 columns]"
      ]
     },
     "execution_count": 5,
     "metadata": {},
     "output_type": "execute_result"
    }
   ],
   "source": [
    "df"
   ]
  },
  {
   "cell_type": "code",
   "execution_count": 6,
   "metadata": {},
   "outputs": [],
   "source": [
    "\"\"\"\n",
    "defining the tokenizers for arabic and english  \n",
    "\n",
    "creating the fields for the dataset from torchtext \n",
    "that class is the simple way I could find for turning a df into a torch dataset\n",
    "\n",
    "نهها and ببدأ are just arbitrary words for init and end of sentence tokens  \n",
    "for some reason when I choose an arabic word for the unknown token  the vocab doesn't replace words that are not in the vocab  \n",
    "\"\"\"\n",
    "\n",
    "def myTokenizerEN(x):\n",
    " return  [word.text for word in \n",
    "          enTokenizer(re.sub(r\"\\s+\\s+\",\" \",re.sub(r\"[\\.\\'\\`\\\"\\r+\\n+]\",\" \",x.lower())).strip())]\n",
    "def myTokenizerAR(x):\n",
    " return  [word.text for word in \n",
    "          arTokenizer(re.sub(r\"\\s+\\s+\",\" \",re.sub(r\"[\\.\\'\\`\\\"\\r+\\n+]\",\" \",x.lower())).strip())]\n",
    "\n",
    "SRC = data.Field(tokenize=myTokenizerEN,batch_first=False,init_token=\"<sos>\",eos_token=\"<eos>\")\n",
    "TARGET = data.Field(tokenize=myTokenizerAR,batch_first=False,tokenizer_language=\"ar\",init_token=\"ببدأ\",eos_token=\"نهها\")\n",
    "\n",
    "class DataFrameDataset(data.Dataset):\n",
    "\n",
    "    def __init__(self, df, src_field, target_field, is_test=False, **kwargs):\n",
    "        fields = [('eng', src_field), ('ar',target_field)]\n",
    "        examples = []\n",
    "        for i, row in df.iterrows():\n",
    "            eng = row.eng \n",
    "            ar = row.ar\n",
    "            examples.append(data.Example.fromlist([eng, ar], fields))\n",
    "\n",
    "        super().__init__(examples, fields, **kwargs)\n",
    "\n",
    "        \n",
    "torchdataset = DataFrameDataset(df,SRC,TARGET)\n"
   ]
  },
  {
   "cell_type": "code",
   "execution_count": 7,
   "metadata": {},
   "outputs": [],
   "source": [
    "train_data, valid_data = torchdataset.split(split_ratio=0.8, random_state = random.seed(SEED))"
   ]
  },
  {
   "cell_type": "code",
   "execution_count": 8,
   "metadata": {},
   "outputs": [],
   "source": [
    "SRC.build_vocab(train_data,min_freq=2)\n",
    "TARGET.build_vocab(train_data,min_freq=2)  "
   ]
  },
  {
   "cell_type": "code",
   "execution_count": 9,
   "metadata": {},
   "outputs": [
    {
     "name": "stdout",
     "output_type": "stream",
     "text": [
      "[('في', 10140), ('من', 8760), ('على', 5248), ('ان', 2553), ('عن', 2310), ('العالمية', 2261), ('الاصوات', 2195), ('الى', 1826), ('هذا', 1619), ('لا', 1595)]\n"
     ]
    }
   ],
   "source": [
    "\n",
    "\n",
    "#Commonly used words\n",
    "print(TARGET.vocab.freqs.most_common(10))  "
   ]
  },
  {
   "cell_type": "code",
   "execution_count": 10,
   "metadata": {},
   "outputs": [],
   "source": [
    "\n",
    "\"\"\"\n",
    "we are using batches for validation and test set because of memory usage we can't pass the whole set at once\n",
    "\n",
    "try lowering the batch size if you are out of memory \n",
    "\"\"\"\n",
    "BATCH_SIZE = 64\n",
    "\n",
    "\n",
    "\n",
    "train_iterator,valid_iterator = data.BucketIterator.splits(\n",
    "    (train_data,valid_data), \n",
    "    batch_size = BATCH_SIZE,\n",
    "    device = device,\n",
    "    sort=False,\n",
    "    sort_within_batch=False,\n",
    "shuffle=True)"
   ]
  },
  {
   "cell_type": "code",
   "execution_count": 11,
   "metadata": {},
   "outputs": [],
   "source": [
    "\"\"\"\n",
    "to point out one thing about the transformer what it could do is to enable \n",
    "training on the whole sequence at once but on really using it for translation it predicts the next word \n",
    "then it feeds the prediction into the sequence again until the model predict <eos> token (with a max length ofc)\n",
    "\n",
    "\"\"\"\n",
    "class TranslateTransformer(nn.Module):\n",
    "    def __init__(\n",
    "        self,\n",
    "        embedding_size,\n",
    "        src_vocab_size,\n",
    "        trg_vocab_size,\n",
    "        src_pad_idx,\n",
    "        num_heads,\n",
    "        num_encoder_layers,\n",
    "        num_decoder_layers,\n",
    "        max_len,\n",
    "    ):\n",
    "        super(TranslateTransformer, self).__init__()\n",
    "        self.srcEmbeddings = nn.Embedding(src_vocab_size,embedding_size)\n",
    "        self.trgEmbeddings= nn.Embedding(trg_vocab_size,embedding_size)\n",
    "        self.srcPositionalEmbeddings= nn.Embedding(max_len,embedding_size)\n",
    "        self.trgPositionalEmbeddings= nn.Embedding(max_len,embedding_size)\n",
    "        self.transformer = nn.Transformer(\n",
    "            embedding_size,\n",
    "            num_heads,\n",
    "            num_encoder_layers,\n",
    "            num_decoder_layers,\n",
    "        )\n",
    "        self.fc_out = nn.Linear(embedding_size, trg_vocab_size)\n",
    "        self.dropout = nn.Dropout(0.1)\n",
    "        self.src_pad_idx = src_pad_idx\n",
    "        self.max_len = max_len\n",
    "    \n",
    "    def make_src_mask(self, src):\n",
    "        src_mask = src.transpose(0,1) == self.src_pad_idx\n",
    "\n",
    "        return src_mask.to(device)\n",
    "\n",
    "    def forward(self,x,trg):\n",
    "        src_seq_length = x.shape[0]\n",
    "        N = x.shape[1]\n",
    "        trg_seq_length = trg.shape[0]\n",
    "        #adding zeros is an easy way\n",
    "        src_positions = (\n",
    "            torch.arange(0, src_seq_length)\n",
    "            .reshape(src_seq_length,1)  + torch.zeros(src_seq_length,N) \n",
    "        ).to(device)\n",
    "        \n",
    "        trg_positions = (\n",
    "            torch.arange(0, trg_seq_length)\n",
    "            .reshape(trg_seq_length,1)  + torch.zeros(trg_seq_length,N) \n",
    "        ).to(device)\n",
    "\n",
    "\n",
    "        srcWords = self.dropout(self.srcEmbeddings(x.long()) +self.srcPositionalEmbeddings(src_positions.long()))\n",
    "        trgWords = self.dropout(self.trgEmbeddings(trg.long())+self.trgPositionalEmbeddings(trg_positions.long()))\n",
    "        \n",
    "        src_padding_mask = self.make_src_mask(x)\n",
    "        trg_mask = self.transformer.generate_square_subsequent_mask(trg_seq_length).to(device)\n",
    "        \n",
    "        \n",
    "        out = self.transformer(srcWords,trgWords, src_key_padding_mask=src_padding_mask,tgt_mask=trg_mask )\n",
    "        out= self.fc_out(out)\n",
    "        return out\n",
    "        \n",
    "\n"
   ]
  },
  {
   "cell_type": "code",
   "execution_count": 12,
   "metadata": {},
   "outputs": [
    {
     "name": "stdout",
     "output_type": "stream",
     "text": [
      "Size of english vocabulary: 12886\n",
      "Size of arabic vocabulary: 22069\n"
     ]
    }
   ],
   "source": [
    "#No. of unique tokens in text\n",
    "src_vocab_size  = len(SRC.vocab)\n",
    "print(\"Size of english vocabulary:\",src_vocab_size)\n",
    "\n",
    "#No. of unique tokens in label\n",
    "trg_vocab_size =len(TARGET.vocab)\n",
    "print(\"Size of arabic vocabulary:\",trg_vocab_size)\n",
    "\n",
    "num_heads = 8\n",
    "num_encoder_layers = 3\n",
    "num_decoder_layers = 3\n",
    "\n",
    "max_len= 227\n",
    "embedding_size= 256\n",
    "src_pad_idx =SRC.vocab.stoi[\"<pad>\"]\n",
    "\n",
    "\n",
    "model = TranslateTransformer(\n",
    "    embedding_size,\n",
    "    src_vocab_size,\n",
    "    trg_vocab_size,\n",
    "    src_pad_idx,\n",
    "    num_heads,\n",
    "    num_encoder_layers,\n",
    "    num_decoder_layers,\n",
    "    max_len\n",
    ").to(device)"
   ]
  },
  {
   "cell_type": "code",
   "execution_count": 13,
   "metadata": {},
   "outputs": [],
   "source": [
    "loss_track = []\n",
    "loss_validation_track= []"
   ]
  },
  {
   "cell_type": "code",
   "execution_count": 46,
   "metadata": {
    "_kg_hide-output": true
   },
   "outputs": [
    {
     "name": "stdout",
     "output_type": "stream",
     "text": [
      "train crossentropy at epoch 50 loss:  5.515523125598957\n",
      "validation crossentropy at epoch 50 loss:  5.83651504888163\n",
      "train crossentropy at epoch 51 loss:  4.316616508867834\n",
      "validation crossentropy at epoch 51 loss:  5.815157500180331\n",
      "train crossentropy at epoch 52 loss:  4.106851389655819\n",
      "validation crossentropy at epoch 52 loss:  5.802550842235615\n",
      "train crossentropy at epoch 53 loss:  3.9637860090701613\n",
      "validation crossentropy at epoch 53 loss:  5.830171894717526\n",
      "train crossentropy at epoch 54 loss:  3.8444339896177318\n",
      "validation crossentropy at epoch 54 loss:  5.815997786336131\n",
      "train crossentropy at epoch 55 loss:  3.744735551344884\n",
      "validation crossentropy at epoch 55 loss:  5.84185047273512\n",
      "train crossentropy at epoch 56 loss:  3.653116785860681\n",
      "validation crossentropy at epoch 56 loss:  5.855011853304776\n",
      "train crossentropy at epoch 57 loss:  3.5713957331397315\n",
      "validation crossentropy at epoch 57 loss:  5.859390438377083\n",
      "train crossentropy at epoch 58 loss:  3.494734538840009\n",
      "validation crossentropy at epoch 58 loss:  5.865302222115653\n",
      "train crossentropy at epoch 59 loss:  3.4300095245435642\n",
      "validation crossentropy at epoch 59 loss:  5.860744036637343\n"
     ]
    }
   ],
   "source": [
    "\"\"\"\n",
    "I'm using adagrad because it assigns bigger updates to less frequently updated weights so \n",
    "so thought it could be useful for words not used a lot \n",
    "\"\"\"\n",
    "\n",
    "optimizer = optim.Adagrad(model.parameters(),lr = 0.003)\n",
    "EPOCHS = 60\n",
    "\n",
    "\n",
    "pad_idx = SRC.vocab.stoi[\"<pad>\"]\n",
    "criterion = nn.CrossEntropyLoss(ignore_index=pad_idx) \n",
    "\n",
    "for i in range(50,EPOCHS):\n",
    "    stepLoss=[]\n",
    "    model.train() # the training mode for the model (applies dropout and batchnorms)\n",
    "    for batch  in train_iterator:\n",
    "        input_sentence = batch.eng.to(device)\n",
    "        trg = batch.ar.to(device)\n",
    "\n",
    "        optimizer.zero_grad()\n",
    "        out = model(input_sentence,trg[:-1])\n",
    "        out = out.reshape(-1,trg_vocab_size)\n",
    "        trg = trg[1:].reshape(-1)\n",
    "        loss = criterion(out,trg)\n",
    "        \n",
    "        \n",
    "        loss.backward()\n",
    "        optimizer.step()\n",
    "        stepLoss.append(loss.item())\n",
    "        \n",
    "\n",
    "    loss_track.append(np.mean(stepLoss))\n",
    "    print(\"train crossentropy at epoch {} loss: \".format(i),np.mean(stepLoss))\n",
    "    \n",
    "    stepValidLoss=[]\n",
    "    model.eval() # the evaluation mode for the model (doesn't apply dropout and batchNorm)\n",
    "    for batch  in valid_iterator:\n",
    "        input_sentence = batch.eng.to(device)\n",
    "        trg = batch.ar.to(device)\n",
    "\n",
    "        optimizer.zero_grad()\n",
    "        out = model(input_sentence,trg[:-1])\n",
    "        out = out.reshape(-1,trg_vocab_size)\n",
    "        trg = trg[1:].reshape(-1)\n",
    "        loss = criterion(out,trg)\n",
    "        \n",
    "        stepValidLoss.append(loss.item())\n",
    "  \n",
    "    loss_validation_track.append(np.mean(stepValidLoss))\n",
    "    print(\"validation crossentropy at epoch {} loss: \".format(i),np.mean(stepValidLoss))\n",
    "    \n",
    "    \n",
    "        "
   ]
  },
  {
   "cell_type": "markdown",
   "metadata": {},
   "source": [
    "I tried doing more than 60 epochs but it turned into copying and pasting the training examples "
   ]
  },
  {
   "cell_type": "code",
   "execution_count": 48,
   "metadata": {},
   "outputs": [
    {
     "data": {
      "image/png": "[encoded data removed]",
      "text/plain": [
       "<Figure size 720x360 with 1 Axes>"
      ]
     },
     "metadata": {
      "needs_background": "light"
     },
     "output_type": "display_data"
    }
   ],
   "source": [
    "import matplotlib.pyplot as plt \n",
    "\n",
    "#the train loss after 50 epoch\n",
    "plt.figure(figsize=(10,5))\n",
    "plt.plot(range(60),loss_track,label=\"train loss\")\n",
    "plt.plot(range(60),loss_validation_track,label=\"valiadtion loss\")\n",
    "plt.legend()\n",
    "plt.show()"
   ]
  },
  {
   "cell_type": "code",
   "execution_count": 49,
   "metadata": {},
   "outputs": [],
   "source": [
    "\"\"\"\n",
    "this function takes some arguments and returns the translated arabic sentence \n",
    "\n",
    "\"\"\"\n",
    "\n",
    "def translate(model,sentence,srcField,targetField,srcTokenizer):\n",
    "    model.eval()\n",
    "    processed_sentence = srcField.process([srcTokenizer(sentence)]).to(device)\n",
    "    trg = [\"ببدأ\"]\n",
    "    for _ in range(60):\n",
    "        \n",
    "        trg_indecies = [targetField.vocab.stoi[word] for word in trg]\n",
    "        outputs = torch.Tensor(trg_indecies).unsqueeze(1).to(device)\n",
    "        outputs = model(processed_sentence,outputs)\n",
    "        \n",
    "        if targetField.vocab.itos[outputs.argmax(2)[-1:].item()] == \"<unk>\":\n",
    "            continue \n",
    "        trg.append(targetField.vocab.itos[outputs.argmax(2)[-1:].item()])\n",
    "        if targetField.vocab.itos[outputs.argmax(2)[-1:].item()] == \"نهها\":\n",
    "            break\n",
    "    return \" \".join([word for word in trg if word != \"<unk>\"][1:-1])\n",
    "    \n",
    "    "
   ]
  },
  {
   "cell_type": "code",
   "execution_count": 50,
   "metadata": {},
   "outputs": [
    {
     "data": {
      "text/plain": [
       "'أنا سعيد'"
      ]
     },
     "execution_count": 50,
     "metadata": {},
     "output_type": "execute_result"
    }
   ],
   "source": [
    "translate(model,\"I'm happy\" ,SRC,TARGET,myTokenizerEN)"
   ]
  },
  {
   "cell_type": "code",
   "execution_count": 51,
   "metadata": {},
   "outputs": [
    {
     "data": {
      "text/plain": [
       "'ماذا تريد أن أفعل؟'"
      ]
     },
     "execution_count": 51,
     "metadata": {},
     "output_type": "execute_result"
    }
   ],
   "source": [
    "translate(model,\"what do you want\" ,SRC,TARGET,myTokenizerEN) "
   ]
  },
  {
   "cell_type": "code",
   "execution_count": 52,
   "metadata": {},
   "outputs": [
    {
     "data": {
      "text/plain": [
       "'ماذا تريد أن تأكل؟'"
      ]
     },
     "execution_count": 52,
     "metadata": {},
     "output_type": "execute_result"
    }
   ],
   "source": [
    "translate(model,\"what do you like to have \" ,SRC,TARGET,myTokenizerEN) "
   ]
  },
  {
   "cell_type": "code",
   "execution_count": 66,
   "metadata": {},
   "outputs": [
    {
     "data": {
      "text/plain": [
       "'أنا ذاهب'"
      ]
     },
     "execution_count": 66,
     "metadata": {},
     "output_type": "execute_result"
    }
   ],
   "source": [
    "translate(model,\"I am going outside\" ,SRC,TARGET,myTokenizerEN) "
   ]
  },
  {
   "cell_type": "code",
   "execution_count": 86,
   "metadata": {},
   "outputs": [
    {
     "data": {
      "text/plain": [
       "'إنه هنا'"
      ]
     },
     "execution_count": 86,
     "metadata": {},
     "output_type": "execute_result"
    }
   ],
   "source": [
    "translate(model,\"he is here\" ,SRC,TARGET,myTokenizerEN) "
   ]
  },
  {
   "cell_type": "code",
   "execution_count": 87,
   "metadata": {},
   "outputs": [
    {
     "data": {
      "text/plain": [
       "'إنه ليس هنا'"
      ]
     },
     "execution_count": 87,
     "metadata": {},
     "output_type": "execute_result"
    }
   ],
   "source": [
    "translate(model,\"he is not here\" ,SRC,TARGET,myTokenizerEN) "
   ]
  },
  {
   "cell_type": "code",
   "execution_count": 55,
   "metadata": {},
   "outputs": [
    {
     "data": {
      "text/plain": [
       "'أحتاج إلى مساعدتك'"
      ]
     },
     "execution_count": 55,
     "metadata": {},
     "output_type": "execute_result"
    }
   ],
   "source": [
    "translate(model,\"I need help\" ,SRC,TARGET,myTokenizerEN)"
   ]
  },
  {
   "cell_type": "code",
   "execution_count": 154,
   "metadata": {},
   "outputs": [
    {
     "data": {
      "text/plain": [
       "'لست في البيت'"
      ]
     },
     "execution_count": 154,
     "metadata": {},
     "output_type": "execute_result"
    }
   ],
   "source": [
    "translate(model,\"I'm not at home\" ,SRC,TARGET,myTokenizerEN)  # it totally get negation right \n"
   ]
  },
  {
   "cell_type": "code",
   "execution_count": 58,
   "metadata": {},
   "outputs": [
    {
     "data": {
      "text/plain": [
       "'أنا مستعد'"
      ]
     },
     "execution_count": 58,
     "metadata": {},
     "output_type": "execute_result"
    }
   ],
   "source": [
    "translate(model,\"I'm ready\" ,SRC,TARGET,myTokenizerEN)\n"
   ]
  },
  {
   "cell_type": "code",
   "execution_count": 69,
   "metadata": {},
   "outputs": [
    {
     "name": "stdout",
     "output_type": "stream",
     "text": [
      "ليس مهماً\n"
     ]
    }
   ],
   "source": [
    "print(translate(model,\"it's not important\" ,SRC,TARGET,myTokenizerEN) )"
   ]
  },
  {
   "cell_type": "code",
   "execution_count": 85,
   "metadata": {},
   "outputs": [
    {
     "data": {
      "text/plain": [
       "''"
      ]
     },
     "execution_count": 85,
     "metadata": {},
     "output_type": "execute_result"
    }
   ],
   "source": [
    "\"\"\"\n",
    "and the model also can't handle any slightly complicated sentences \n",
    "\"\"\"\n",
    "translate(model,\"he apologized for the mistake he did\" ,SRC,TARGET,myTokenizerEN)"
   ]
  },
  {
   "cell_type": "markdown",
   "metadata": {},
   "source": [
    "as the model doesn't have a significant performance, I think it needs more epochs and much more data (maybe it needs to be bigger also but we have limited ram ) "
   ]
  }
 ],
 "metadata": {
  "kernelspec": {
   "display_name": "Python 3",
   "language": "python",
   "name": "python3"
  },
  "language_info": {
   "codemirror_mode": {
    "name": "ipython",
    "version": 3
   },
   "file_extension": ".py",
   "mimetype": "text/x-python",
   "name": "python",
   "nbconvert_exporter": "python",
   "pygments_lexer": "ipython3",
   "version": "3.7.6"
  }
 },
 "nbformat": 4,
 "nbformat_minor": 4
}
